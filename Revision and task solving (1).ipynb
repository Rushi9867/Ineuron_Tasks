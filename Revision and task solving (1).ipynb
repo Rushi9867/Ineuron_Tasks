{
 "cells": [
  {
   "cell_type": "code",
   "execution_count": null,
   "id": "cd466ce1",
   "metadata": {},
   "outputs": [],
   "source": [
    "s = \"this is My First Python programming class and i am learNING python string and its function\"\n",
    "1 . Try to extract data from index one to index 300 with a jump of 3 \n",
    "2. Try to reverse a string without using reverse function \n",
    "3. Try to split a string after conversion of entire string in uppercase \n",
    "4. try to convert the whole string into lower case \n",
    "5 . Try to capitalize the whole string \n",
    "6 . Write a diference between isalnum() and isalpha()\n",
    "7. Try to give an example of expand tab\n",
    "8 . Give an example of strip , lstrip and rstrip \n",
    "9.  Replace a string charecter by another charector by taking your own example \n",
    "\"sudhanshu\"\n",
    "10 . Try  to give a defination of string center function with and exmple \n",
    "11 . Write your own definition of compiler and interpretor without copy paste form internet in your own language\n",
    "12 . Python is a interpreted of compiled language give a clear ans with your understanding \n",
    "13 . Try to write a usecase of python with your understanding ."
   ]
  },
  {
   "cell_type": "code",
   "execution_count": 2,
   "id": "42355899",
   "metadata": {},
   "outputs": [
    {
     "data": {
      "text/plain": [
       "'tssyityopgmncsa alrNph rgni ni'"
      ]
     },
     "execution_count": 2,
     "metadata": {},
     "output_type": "execute_result"
    }
   ],
   "source": [
    "s = \"this is My First Python programming class and i am learNING python string and its function\"\n",
    "s[0:300:3]"
   ]
  },
  {
   "cell_type": "code",
   "execution_count": 3,
   "id": "edb8b41b",
   "metadata": {},
   "outputs": [
    {
     "data": {
      "text/plain": [
       "'noitcnuf sti dna gnirts nohtyp GNINrael ma i dna ssalc gnimmargorp nohtyP tsriF yM si siht'"
      ]
     },
     "execution_count": 3,
     "metadata": {},
     "output_type": "execute_result"
    }
   ],
   "source": [
    "s[::-1]"
   ]
  },
  {
   "cell_type": "code",
   "execution_count": 5,
   "id": "b0200263",
   "metadata": {},
   "outputs": [
    {
     "data": {
      "text/plain": [
       "['THIS',\n",
       " 'IS',\n",
       " 'MY',\n",
       " 'FIRST',\n",
       " 'PYTHON',\n",
       " 'PROGRAMMING',\n",
       " 'CLASS',\n",
       " 'AND',\n",
       " 'I',\n",
       " 'AM',\n",
       " 'LEARNING',\n",
       " 'PYTHON',\n",
       " 'STRING',\n",
       " 'AND',\n",
       " 'ITS',\n",
       " 'FUNCTION']"
      ]
     },
     "execution_count": 5,
     "metadata": {},
     "output_type": "execute_result"
    }
   ],
   "source": [
    "\n",
    "s1=s.upper()\n",
    "s1.split()\n"
   ]
  },
  {
   "cell_type": "code",
   "execution_count": 6,
   "id": "4898d3b8",
   "metadata": {},
   "outputs": [
    {
     "data": {
      "text/plain": [
       "'this is My First Python programming class and i am learNING python string and its function'"
      ]
     },
     "execution_count": 6,
     "metadata": {},
     "output_type": "execute_result"
    }
   ],
   "source": [
    "s"
   ]
  },
  {
   "cell_type": "code",
   "execution_count": 7,
   "id": "465a873d",
   "metadata": {},
   "outputs": [
    {
     "data": {
      "text/plain": [
       "'this is my first python programming class and i am learning python string and its function'"
      ]
     },
     "execution_count": 7,
     "metadata": {},
     "output_type": "execute_result"
    }
   ],
   "source": [
    "s.lower()"
   ]
  },
  {
   "cell_type": "code",
   "execution_count": 8,
   "id": "c743bde8",
   "metadata": {},
   "outputs": [
    {
     "data": {
      "text/plain": [
       "'This is my first python programming class and i am learning python string and its function'"
      ]
     },
     "execution_count": 8,
     "metadata": {},
     "output_type": "execute_result"
    }
   ],
   "source": [
    "s.capitalize()"
   ]
  },
  {
   "cell_type": "code",
   "execution_count": 10,
   "id": "516f744a",
   "metadata": {},
   "outputs": [
    {
     "data": {
      "text/plain": [
       "True"
      ]
     },
     "execution_count": 10,
     "metadata": {},
     "output_type": "execute_result"
    }
   ],
   "source": [
    "s1 = \"sudhfsdf\"\n",
    "s1.isalnum()"
   ]
  },
  {
   "cell_type": "code",
   "execution_count": 11,
   "id": "4233fdfc",
   "metadata": {},
   "outputs": [
    {
     "data": {
      "text/plain": [
       "False"
      ]
     },
     "execution_count": 11,
     "metadata": {},
     "output_type": "execute_result"
    }
   ],
   "source": [
    "s2 = \"sudh345\"\n",
    "s2.isalpha()"
   ]
  },
  {
   "cell_type": "code",
   "execution_count": 13,
   "id": "37ddcf4a",
   "metadata": {},
   "outputs": [
    {
     "data": {
      "text/plain": [
       "'xyzyu   12345   abc'"
      ]
     },
     "execution_count": 13,
     "metadata": {},
     "output_type": "execute_result"
    }
   ],
   "source": [
    "s = \"xyzyu\\t12345\\tabc\"\n",
    "s.expandtabs()"
   ]
  },
  {
   "cell_type": "code",
   "execution_count": 14,
   "id": "1c276500",
   "metadata": {},
   "outputs": [
    {
     "data": {
      "text/plain": [
       "'               baby'"
      ]
     },
     "execution_count": 14,
     "metadata": {},
     "output_type": "execute_result"
    }
   ],
   "source": [
    "temp=\"               baby           \"\n",
    "\n",
    "temp.strip()\n",
    "\n",
    "temp.lstrip()\n",
    "\n",
    "temp.rstrip()\n"
   ]
  },
  {
   "cell_type": "code",
   "execution_count": 15,
   "id": "226495d7",
   "metadata": {},
   "outputs": [
    {
     "data": {
      "text/plain": [
       "'baby'"
      ]
     },
     "execution_count": 15,
     "metadata": {},
     "output_type": "execute_result"
    }
   ],
   "source": [
    "temp.strip()"
   ]
  },
  {
   "cell_type": "code",
   "execution_count": 16,
   "id": "e2bca473",
   "metadata": {},
   "outputs": [
    {
     "data": {
      "text/plain": [
       "'baby           '"
      ]
     },
     "execution_count": 16,
     "metadata": {},
     "output_type": "execute_result"
    }
   ],
   "source": [
    "temp.lstrip()"
   ]
  },
  {
   "cell_type": "code",
   "execution_count": 17,
   "id": "96ef343a",
   "metadata": {},
   "outputs": [
    {
     "data": {
      "text/plain": [
       "'               baby'"
      ]
     },
     "execution_count": 17,
     "metadata": {},
     "output_type": "execute_result"
    }
   ],
   "source": [
    "temp.rstrip()"
   ]
  },
  {
   "cell_type": "code",
   "execution_count": 18,
   "id": "369c7382",
   "metadata": {},
   "outputs": [
    {
     "data": {
      "text/plain": [
       "'Cold container'"
      ]
     },
     "execution_count": 18,
     "metadata": {},
     "output_type": "execute_result"
    }
   ],
   "source": [
    "ad = \"Cold storage\"    \n",
    "ad.replace(\"storage\" , \"container\")\n"
   ]
  },
  {
   "cell_type": "code",
   "execution_count": 20,
   "id": "eecfc99a",
   "metadata": {},
   "outputs": [
    {
     "data": {
      "text/plain": [
       "'**Coder***'"
      ]
     },
     "execution_count": 20,
     "metadata": {},
     "output_type": "execute_result"
    }
   ],
   "source": [
    "n= \"Coder\"\n",
    "\n",
    "n.center(10,'*')\n"
   ]
  },
  {
   "cell_type": "code",
   "execution_count": null,
   "id": "ab780709",
   "metadata": {},
   "outputs": [],
   "source": [
    "# 11 . Write your own definition of compiler and interpretor without copy paste form internet in your own language\n",
    "# Answer 11. We use both compilers and interpreters to convert the language we wrote the code in to binary language\n",
    "# so machine can understand\n",
    "# Intrepreter translate one statement at a time hence it take less amount of time to analyze the code but to process whole \n",
    "# program it take more time than compilers.\n",
    "#on the other hand Compiler scans the entire program and translates it as a whole into machine code\n",
    "# hence it takes more time to analyze the source code however the overall execution time is a little faster than the \n",
    "# interpreter.\n"
   ]
  },
  {
   "cell_type": "code",
   "execution_count": null,
   "id": "22171286",
   "metadata": {},
   "outputs": [],
   "source": [
    "Compiler: it is a program that translates the code written by person into a language recoginised by computer.\n",
    "    it translate the whole code at once. The code execution is fast as compared to interpreter.\n",
    "Interpreter: it is also a program that translates the code written by person in a language recoginised by computer,\n",
    "    but the difference is that it translates the each code line one by one, hence the code execution is slow, but \n",
    "    advantage is that it stops at that line where code is incorrect.\n"
   ]
  },
  {
   "cell_type": "code",
   "execution_count": null,
   "id": "31f96ede",
   "metadata": {},
   "outputs": [],
   "source": [
    "Compiler - It is a type of software that runs or executes the written code at once or runs the whole codes with one go.\n",
    "Interpretoor - It executes the written code line by line or one line at a time into machine code.\n"
   ]
  },
  {
   "cell_type": "code",
   "execution_count": null,
   "id": "7005a239",
   "metadata": {},
   "outputs": [],
   "source": [
    "We can call compiler as translator between human and mechine. whhich translates any programming to into machine code or bytecode other in some other format.\n",
    "\n",
    "Interpreter is don't translates in some other format. it directly executes the instructions written in the program.\n"
   ]
  },
  {
   "cell_type": "code",
   "execution_count": null,
   "id": "f7c900ee",
   "metadata": {},
   "outputs": [],
   "source": [
    "Python is an interpreted language where compilation as a step. Python interpreter first compile code and transalates to byte code and byte code instructions get executed on virtual machine. Python is platform independent & auto grabage managed.\n"
   ]
  },
  {
   "cell_type": "code",
   "execution_count": null,
   "id": "913eaac0",
   "metadata": {},
   "outputs": [],
   "source": [
    "Interpreter :- Interpreter interpret or translates any progoram line by line which makes it slower. Also, interpreter works on bytecode. For eg. Python, Javascript etc.\n",
    "\n",
    "Compiler :- Compiler takes the whole program at once and translates it as a whole in machine code which makes it faster than interpreter. Also, after compilation code is converted into machine code. For eg. C,C++, Java etc.\n"
   ]
  },
  {
   "cell_type": "code",
   "execution_count": 21,
   "id": "52191eba",
   "metadata": {},
   "outputs": [
    {
     "name": "stdout",
     "output_type": "stream",
     "text": [
      "Hello World\n"
     ]
    },
    {
     "ename": "TypeError",
     "evalue": "can only concatenate str (not \"int\") to str",
     "output_type": "error",
     "traceback": [
      "\u001b[1;31m---------------------------------------------------------------------------\u001b[0m",
      "\u001b[1;31mTypeError\u001b[0m                                 Traceback (most recent call last)",
      "\u001b[1;32m~\\AppData\\Local\\Temp/ipykernel_16624/4134237774.py\u001b[0m in \u001b[0;36m<module>\u001b[1;34m\u001b[0m\n\u001b[0;32m     12\u001b[0m \u001b[0ma\u001b[0m\u001b[1;33m=\u001b[0m\u001b[1;34m\"Pooja\"\u001b[0m\u001b[1;33m\u001b[0m\u001b[1;33m\u001b[0m\u001b[0m\n\u001b[0;32m     13\u001b[0m \u001b[0mprint\u001b[0m\u001b[1;33m(\u001b[0m\u001b[1;34m\"Hello World\"\u001b[0m\u001b[1;33m)\u001b[0m\u001b[1;33m\u001b[0m\u001b[1;33m\u001b[0m\u001b[0m\n\u001b[1;32m---> 14\u001b[1;33m \u001b[0mprint\u001b[0m\u001b[1;33m(\u001b[0m\u001b[0ma\u001b[0m\u001b[1;33m+\u001b[0m\u001b[1;36m2\u001b[0m\u001b[1;33m)\u001b[0m\u001b[1;33m\u001b[0m\u001b[1;33m\u001b[0m\u001b[0m\n\u001b[0m\u001b[0;32m     15\u001b[0m \u001b[0mprint\u001b[0m\u001b[1;33m(\u001b[0m\u001b[1;34m\"pooja\"\u001b[0m\u001b[1;33m*\u001b[0m\u001b[1;36m2\u001b[0m\u001b[1;33m)\u001b[0m\u001b[1;33m\u001b[0m\u001b[1;33m\u001b[0m\u001b[0m\n",
      "\u001b[1;31mTypeError\u001b[0m: can only concatenate str (not \"int\") to str"
     ]
    }
   ],
   "source": [
    "\"\"\"  For this Question \"Python is a interpreted or compiled language\" its better to see practical example by giving a error.\n",
    "    \n",
    "    so, in this\n",
    "    \n",
    "    a=\"Pooja\" # \"Pooja\" is assign to a ok  correct\n",
    "    print(\"Hello World\") # print \"pooja\"  as it don't have any error and we get our output so hmm Good\n",
    "    print(a+2)# print pooja2 but error as str not concetenate with int  nd we get error too\n",
    "    print(\"pooja\"*2)# print poojapooja  this statement is correct but not print  as we get error in above line python not execute this statement \n",
    "    \n",
    "    \n",
    "   So, as we seen in example python execute line by line and get error stop in that line only not even go to next that only mean \"Python is Interpreter\".\"\"\"\n",
    "a=\"Pooja\"\n",
    "print(\"Hello World\")\n",
    "print(a+2)\n",
    "print(\"pooja\"*2)\n"
   ]
  },
  {
   "cell_type": "code",
   "execution_count": null,
   "id": "3e734b40",
   "metadata": {},
   "outputs": [],
   "source": [
    "#In general it is belived that Python is a interpreter language but in reality neigther it is a compiler language nor a interpreted language.\n",
    "#It works in two layer first the .py file is compliled to an intermediate code of .pyc then the .pyc file is directly interpreted as for final output.\n"
   ]
  },
  {
   "cell_type": "code",
   "execution_count": null,
   "id": "512d6468",
   "metadata": {},
   "outputs": [],
   "source": [
    "-python is compiled as well as interpreted language. in python to converts the high level language in to \n",
    "low level laguage the terms compiler cames in to the picture.\n",
    "-In python when we execute the program 1st the compiler converts the source code in to byte code and then interpreter converts \n",
    "the byte code in to machine level language.\n",
    "\n",
    "source code--->compiler--->byte code--->interpreter--->machine code\n",
    "                                        (Virtual \n",
    "                                        machine(PVM))\n",
    "-in python the process of execution is bit different because to make the program platform independence(we can write code once\n",
    "and can run in differenr platform).As the machine changes the cpu architecture also changes so if we are writting some code \n",
    "in one machine it may not be executed in other so to resolve this problem virtual machines converts the byte code in to machine\n",
    "code and make it platform indepndent.\n"
   ]
  },
  {
   "cell_type": "code",
   "execution_count": null,
   "id": "44daa1e8",
   "metadata": {},
   "outputs": [],
   "source": [
    "python is commonly used for :-\n",
    " \n",
    "          a) Developing websites and software\n",
    "          b) Task automation\n",
    "          c) Data analysis \n",
    "          d) data visualization.\n",
    "          e) and many more....\n"
   ]
  },
  {
   "cell_type": "code",
   "execution_count": null,
   "id": "881467cd",
   "metadata": {},
   "outputs": [],
   "source": [
    "'''1.Data Science.\n",
    "2.Artificial Intelligence. \n",
    "3.Web Scraping. \n",
    "4.Web application development.\n",
    "5.Game development. \n",
    "6.Internet of Things. \n",
    "7.Desktop GUI. \n",
    "8.Enterprise applications.'''\n"
   ]
  },
  {
   "cell_type": "code",
   "execution_count": null,
   "id": "761bbebf",
   "metadata": {},
   "outputs": [],
   "source": [
    "    Web Development using  Django, Pyramid, and Flask frameworks.\n",
    "    Scientific Computing using Numpy and Pandas\n",
    "    Machine Learning and AI\n",
    "    Data Visualization\n",
    "    Game development\n",
    "    Desktop Application using Tk library\n",
    "    \n",
    "    1. Face Detection \n",
    "2. Vehicle Number Plate Detection \n",
    "3. Stock Exchange Trading Apps that have AI for trading analysis \n",
    "4. Phone Keyboard\n",
    "5. Snapchat's Bitmoji predictor\n",
    "6. Google Map \n",
    "7. Airlines ticket price predicter\n",
    "\n",
    "1) System Programming\n",
    "\n",
    "2) GUI Interface\n",
    "\n",
    "3) WEb Scrapping\n",
    "\n",
    "4) Data bases\n",
    "\n",
    "5) Scientific Programming / Numeric Programming\n",
    "\n",
    "6) Game\n",
    "\n",
    "7) Image processing\n",
    "\n",
    "8) Robotics.\n",
    "\n",
    "9) CAD Application.\n"
   ]
  },
  {
   "cell_type": "raw",
   "id": "72755018",
   "metadata": {},
   "source": [
    "Task 2 \n",
    "\n",
    "l = [3,4,5,6,7 , [23,456,67,8,78,78] , [345,56,87,8,98,9] , (234,6657,6) , {\"key1\" :\"sudh\" , 234:[23,45,656]}]\n",
    "1 . Try to reverse a list \n",
    "2. try to access 234 out of this list \n",
    "3 . try to access 456 \n",
    "4 . Try to extract only a list collection form list l \n",
    "5 . Try to extract \"sudh\"\n",
    "6 . Try to list all the key in dict element avaible in list \n",
    "7 . Try to extract all the value element form dict available in list\n"
   ]
  },
  {
   "cell_type": "code",
   "execution_count": 22,
   "id": "1f420292",
   "metadata": {},
   "outputs": [],
   "source": [
    "l = [3,4,5,6,7 , [23,456,67,8,78,78] , [345,56,87,8,98,9] , (234,6657,6) , {\"key1\" :\"sudh\" , 234:[23,45,656]}]"
   ]
  },
  {
   "cell_type": "code",
   "execution_count": 23,
   "id": "605407b8",
   "metadata": {},
   "outputs": [
    {
     "data": {
      "text/plain": [
       "[{'key1': 'sudh', 234: [23, 45, 656]},\n",
       " (234, 6657, 6),\n",
       " [345, 56, 87, 8, 98, 9],\n",
       " [23, 456, 67, 8, 78, 78],\n",
       " 7,\n",
       " 6,\n",
       " 5,\n",
       " 4,\n",
       " 3]"
      ]
     },
     "execution_count": 23,
     "metadata": {},
     "output_type": "execute_result"
    }
   ],
   "source": [
    "l[::-1]"
   ]
  },
  {
   "cell_type": "code",
   "execution_count": 27,
   "id": "af528ad0",
   "metadata": {},
   "outputs": [],
   "source": [
    "l.reverse()"
   ]
  },
  {
   "cell_type": "code",
   "execution_count": 28,
   "id": "efa61dae",
   "metadata": {},
   "outputs": [
    {
     "data": {
      "text/plain": [
       "[3,\n",
       " 4,\n",
       " 5,\n",
       " 6,\n",
       " 7,\n",
       " [23, 456, 67, 8, 78, 78],\n",
       " [345, 56, 87, 8, 98, 9],\n",
       " (234, 6657, 6),\n",
       " {'key1': 'sudh', 234: [23, 45, 656]}]"
      ]
     },
     "execution_count": 28,
     "metadata": {},
     "output_type": "execute_result"
    }
   ],
   "source": [
    "l"
   ]
  },
  {
   "cell_type": "code",
   "execution_count": 30,
   "id": "b1b50edf",
   "metadata": {},
   "outputs": [
    {
     "data": {
      "text/plain": [
       "234"
      ]
     },
     "execution_count": 30,
     "metadata": {},
     "output_type": "execute_result"
    }
   ],
   "source": [
    "l[7][0]"
   ]
  },
  {
   "cell_type": "code",
   "execution_count": 36,
   "id": "959714dc",
   "metadata": {},
   "outputs": [
    {
     "data": {
      "text/plain": [
       "234"
      ]
     },
     "execution_count": 36,
     "metadata": {},
     "output_type": "execute_result"
    }
   ],
   "source": [
    "list(l[8].keys())[1]"
   ]
  },
  {
   "cell_type": "code",
   "execution_count": 38,
   "id": "88dc9f85",
   "metadata": {},
   "outputs": [
    {
     "data": {
      "text/plain": [
       "456"
      ]
     },
     "execution_count": 38,
     "metadata": {},
     "output_type": "execute_result"
    }
   ],
   "source": [
    "l[5][1]"
   ]
  },
  {
   "cell_type": "code",
   "execution_count": 39,
   "id": "3773fd61",
   "metadata": {},
   "outputs": [
    {
     "data": {
      "text/plain": [
       "[[23, 456, 67, 8, 78, 78], [345, 56, 87, 8, 98, 9]]"
      ]
     },
     "execution_count": 39,
     "metadata": {},
     "output_type": "execute_result"
    }
   ],
   "source": [
    "l[5:7]"
   ]
  },
  {
   "cell_type": "code",
   "execution_count": 40,
   "id": "416769ac",
   "metadata": {},
   "outputs": [
    {
     "data": {
      "text/plain": [
       "[23, 456, 67, 8, 78, 78]"
      ]
     },
     "execution_count": 40,
     "metadata": {},
     "output_type": "execute_result"
    }
   ],
   "source": [
    "l[5]"
   ]
  },
  {
   "cell_type": "code",
   "execution_count": 41,
   "id": "33176196",
   "metadata": {},
   "outputs": [
    {
     "data": {
      "text/plain": [
       "[345, 56, 87, 8, 98, 9]"
      ]
     },
     "execution_count": 41,
     "metadata": {},
     "output_type": "execute_result"
    }
   ],
   "source": [
    "l[6]"
   ]
  },
  {
   "cell_type": "code",
   "execution_count": 43,
   "id": "739a5dc6",
   "metadata": {},
   "outputs": [
    {
     "data": {
      "text/plain": [
       "'sudh'"
      ]
     },
     "execution_count": 43,
     "metadata": {},
     "output_type": "execute_result"
    }
   ],
   "source": [
    "l[8]['key1']"
   ]
  },
  {
   "cell_type": "code",
   "execution_count": 46,
   "id": "ea293f5e",
   "metadata": {},
   "outputs": [
    {
     "data": {
      "text/plain": [
       "['key1', 234]"
      ]
     },
     "execution_count": 46,
     "metadata": {},
     "output_type": "execute_result"
    }
   ],
   "source": [
    "list(l[8].keys())"
   ]
  },
  {
   "cell_type": "code",
   "execution_count": 49,
   "id": "3da3d5e5",
   "metadata": {},
   "outputs": [
    {
     "data": {
      "text/plain": [
       "['sudh', [23, 45, 656]]"
      ]
     },
     "execution_count": 49,
     "metadata": {},
     "output_type": "execute_result"
    }
   ],
   "source": [
    "list(l[8].values())"
   ]
  },
  {
   "cell_type": "code",
   "execution_count": null,
   "id": "1c61394e",
   "metadata": {},
   "outputs": [],
   "source": [
    "q1 :\n",
    "ineruon \n",
    "ineruon ineruon \n",
    "ineruon ineruon ineruon\n",
    "ineruon ineruon ineruon ineruon\n",
    "\n",
    "q2 - \n",
    "\n",
    "          ineruon\n",
    "    ineruon      ineruon\n",
    "ineruon\t\tineruon \tineruon\n",
    "\tineruon\t\t ineruon\n",
    "\t\t  ineruon\n",
    "\n",
    "l = [[1,2,3,4] , (2,3,4,5,6) , (3,4,5,6,7) , set([23,4,5,45,4,4,5,45,45,4,5]) , {'k1' :\"sudh\" , \"k2\" : \"ineuron\",\"k3\":\n",
    "            \"kumar\" , 3:6 , 7:8} , [\"ineuron\" , \"data science \"]]\n",
    "\n",
    "q3 : Try to extract all the list entity \n",
    "q4 : Try to extract all the dict enteties\n",
    "q5 : Try to extract all the tuples entities\n",
    "q6 : Try to extract all the numerical data it may b a part of dict key and values \n",
    "q7 : Try to give summation of all the numeric data \n",
    "q8 : Try to filter out all the odd values out all numeric data which is a part of a list \n",
    "q9 : Try to extract \"ineruon\" out of this data\n",
    "q10 : Try to find out a number of occurances of all the data \n",
    "q11 : Try to find out number of keys in dict element\n",
    "q12 : Try to filter out all the string data \n",
    "q13 : Try to Find  out alphanum in data\n",
    "q14 : Try to find out multiplication of all numeric value in the individual collection inside dataset\n",
    "\n"
   ]
  },
  {
   "cell_type": "code",
   "execution_count": 51,
   "id": "63f9cd94",
   "metadata": {},
   "outputs": [
    {
     "name": "stdout",
     "output_type": "stream",
     "text": [
      "Please enter how many rows you want to print: 7\n",
      "\n",
      "ineuron \n",
      "ineuron ineuron \n",
      "ineuron ineuron ineuron \n",
      "ineuron ineuron ineuron ineuron \n",
      "ineuron ineuron ineuron ineuron ineuron \n",
      "ineuron ineuron ineuron ineuron ineuron ineuron \n",
      "ineuron ineuron ineuron ineuron ineuron ineuron ineuron \n"
     ]
    }
   ],
   "source": [
    "row = int(input(\"Please enter how many rows you want to print: \"))\n",
    "print()\n",
    "for i in range(row):\n",
    "    print(\"ineuron \"*(i+1))"
   ]
  },
  {
   "cell_type": "code",
   "execution_count": 55,
   "id": "f6c1f330",
   "metadata": {},
   "outputs": [
    {
     "name": "stdout",
     "output_type": "stream",
     "text": [
      "                              \n",
      "           ineuron            \n",
      "       ineuron ineuron        \n",
      "   ineuron ineuron ineuron    \n",
      "       ineuron ineuron        \n",
      "           ineuron            \n"
     ]
    }
   ],
   "source": [
    "for i in range(6):\n",
    "    if i <= 3:\n",
    "        n = i\n",
    "    else:\n",
    "        n = 6 - i\n",
    "    print((\"ineuron \"*n).center(30,' '))"
   ]
  },
  {
   "cell_type": "code",
   "execution_count": 56,
   "id": "101fa417",
   "metadata": {},
   "outputs": [],
   "source": [
    "l = [[1,2,3,4] , (2,3,4,5,6) , (3,4,5,6,7) , set([23,4,5,45,4,4,5,45,45,4,5]) , {'k1' :\"sudh\" , \"k2\" : \"ineuron\",\"k3\":\n",
    "            \"kumar\" , 3:6 , 7:8} , [\"ineuron\" , \"data science \"]]"
   ]
  },
  {
   "cell_type": "code",
   "execution_count": 57,
   "id": "6621b91b",
   "metadata": {},
   "outputs": [
    {
     "name": "stdout",
     "output_type": "stream",
     "text": [
      "[1, 2, 3, 4]\n",
      "['ineuron', 'data science ']\n"
     ]
    }
   ],
   "source": [
    "for i in l :\n",
    "    if type(i) == list :\n",
    "        print(i)"
   ]
  },
  {
   "cell_type": "code",
   "execution_count": 58,
   "id": "4e7a9887",
   "metadata": {},
   "outputs": [
    {
     "name": "stdout",
     "output_type": "stream",
     "text": [
      "{'k1': 'sudh', 'k2': 'ineuron', 'k3': 'kumar', 3: 6, 7: 8}\n"
     ]
    }
   ],
   "source": [
    "for i in l :\n",
    "    if type(i) == dict :\n",
    "        print(i)"
   ]
  },
  {
   "cell_type": "code",
   "execution_count": 59,
   "id": "d50b6c45",
   "metadata": {},
   "outputs": [
    {
     "name": "stdout",
     "output_type": "stream",
     "text": [
      "(2, 3, 4, 5, 6)\n",
      "(3, 4, 5, 6, 7)\n"
     ]
    }
   ],
   "source": [
    "for i in l :\n",
    "    if type(i) == tuple:\n",
    "        print(i)"
   ]
  },
  {
   "cell_type": "code",
   "execution_count": 68,
   "id": "e1c31652",
   "metadata": {},
   "outputs": [],
   "source": [
    "l = [[1,2,3,4] , (2,3,4,5,6) , (3,4,5,6,7) , set([23,4,5,45,4,4,5,45,45,4,5]) , {'k1' :\"sudh\" , \"k2\" : \"ineuron\",\"k3\":\n",
    "            \"kumar\" , 3:6 , 7:8} , [\"ineuron\" , \"data science \"]]"
   ]
  },
  {
   "cell_type": "code",
   "execution_count": 82,
   "id": "cb06d134",
   "metadata": {},
   "outputs": [],
   "source": [
    "l1 = []\n",
    "for i in l:\n",
    "    if type(i) == list or type(i) == tuple or type(i) == set :\n",
    "        for j in i :\n",
    "            if type(j) == int :\n",
    "                l1.append(j)\n",
    "    if type(i) == dict :\n",
    "        for k in i.items() : \n",
    "            for g in k :\n",
    "                if type(g) == int :\n",
    "                    l1.append(g)\n",
    "            "
   ]
  },
  {
   "cell_type": "code",
   "execution_count": 83,
   "id": "c3e7fe91",
   "metadata": {},
   "outputs": [
    {
     "data": {
      "text/plain": [
       "[1, 2, 3, 4, 2, 3, 4, 5, 6, 3, 4, 5, 6, 7, 45, 4, 5, 23, 3, 6, 7, 8]"
      ]
     },
     "execution_count": 83,
     "metadata": {},
     "output_type": "execute_result"
    }
   ],
   "source": [
    "l1"
   ]
  },
  {
   "cell_type": "code",
   "execution_count": 84,
   "id": "0e893856",
   "metadata": {},
   "outputs": [],
   "source": [
    "d = {'k1' :\"sudh\" , \"k2\" : \"ineuron\",\"k3\":\n",
    "            \"kumar\" , 3:6 , 7:8}"
   ]
  },
  {
   "cell_type": "code",
   "execution_count": 85,
   "id": "3e939065",
   "metadata": {},
   "outputs": [
    {
     "data": {
      "text/plain": [
       "dict_items([('k1', 'sudh'), ('k2', 'ineuron'), ('k3', 'kumar'), (3, 6), (7, 8)])"
      ]
     },
     "execution_count": 85,
     "metadata": {},
     "output_type": "execute_result"
    }
   ],
   "source": [
    "d.items()"
   ]
  },
  {
   "cell_type": "code",
   "execution_count": 86,
   "id": "7a917374",
   "metadata": {},
   "outputs": [
    {
     "data": {
      "text/plain": [
       "156"
      ]
     },
     "execution_count": 86,
     "metadata": {},
     "output_type": "execute_result"
    }
   ],
   "source": [
    "sum(l1)"
   ]
  },
  {
   "cell_type": "code",
   "execution_count": 87,
   "id": "f9bb9a8c",
   "metadata": {},
   "outputs": [
    {
     "data": {
      "text/plain": [
       "[1, 2, 3, 4, 2, 3, 4, 5, 6, 3, 4, 5, 6, 7, 45, 4, 5, 23, 3, 6, 7, 8]"
      ]
     },
     "execution_count": 87,
     "metadata": {},
     "output_type": "execute_result"
    }
   ],
   "source": [
    "l1"
   ]
  },
  {
   "cell_type": "code",
   "execution_count": 78,
   "id": "b320c244",
   "metadata": {},
   "outputs": [
    {
     "name": "stdout",
     "output_type": "stream",
     "text": [
      "1\n",
      "3\n",
      "3\n",
      "5\n",
      "3\n",
      "5\n",
      "7\n",
      "45\n",
      "5\n",
      "23\n",
      "3\n",
      "7\n"
     ]
    }
   ],
   "source": [
    "for i in l1 :\n",
    "    if i % 2 == 0  :\n",
    "        pass\n",
    "    else :\n",
    "        print(i)\n",
    "        "
   ]
  },
  {
   "cell_type": "code",
   "execution_count": 79,
   "id": "2337f991",
   "metadata": {},
   "outputs": [],
   "source": [
    "l = [[1,2,3,4] , (2,3,4,5,6) , (3,4,5,6,7) , set([23,4,5,45,4,4,5,45,45,4,5]) , {'k1' :\"sudh\" , \"k2\" : \"ineuron\",\"k3\":\n",
    "            \"kumar\" , 3:6 , 7:8} , [\"ineuron\" , \"data science \"]]"
   ]
  },
  {
   "cell_type": "code",
   "execution_count": 80,
   "id": "2593fd92",
   "metadata": {},
   "outputs": [],
   "source": [
    "l1 = []\n",
    "for i in l:\n",
    "    if type(i) == list or type(i) == tuple or type(i) == set :\n",
    "        for j in i :\n",
    "            if j == 'ineuron' :\n",
    "                l1.append(j)\n",
    "    if type(i) == dict :\n",
    "        for k in i.items() : \n",
    "            for g in k :\n",
    "                if g == 'ineuron' :\n",
    "                    l1.append(g)"
   ]
  },
  {
   "cell_type": "code",
   "execution_count": 81,
   "id": "5f057eac",
   "metadata": {},
   "outputs": [
    {
     "data": {
      "text/plain": [
       "['ineuron', 'ineuron']"
      ]
     },
     "execution_count": 81,
     "metadata": {},
     "output_type": "execute_result"
    }
   ],
   "source": [
    "l1"
   ]
  },
  {
   "cell_type": "code",
   "execution_count": 88,
   "id": "ea6cbe71",
   "metadata": {},
   "outputs": [
    {
     "data": {
      "text/plain": [
       "[[1, 2, 3, 4],\n",
       " (2, 3, 4, 5, 6),\n",
       " (3, 4, 5, 6, 7),\n",
       " {4, 5, 23, 45},\n",
       " {'k1': 'sudh', 'k2': 'ineuron', 'k3': 'kumar', 3: 6, 7: 8},\n",
       " ['ineuron', 'data science ']]"
      ]
     },
     "execution_count": 88,
     "metadata": {},
     "output_type": "execute_result"
    }
   ],
   "source": [
    "l"
   ]
  },
  {
   "cell_type": "code",
   "execution_count": 92,
   "id": "a112c64b",
   "metadata": {},
   "outputs": [],
   "source": [
    "l1 = []\n",
    "for i in l:\n",
    "    if type(i) == list or type(i) == tuple or type(i) == set :\n",
    "        for j in i :\n",
    "            if type(j) == int or type(j) == str:\n",
    "                l1.append(j)\n",
    "    if type(i) == dict :\n",
    "        for k in i.items() : \n",
    "            for g in k :\n",
    "                if type(g) == int  or type(g) == str:\n",
    "                    l1.append(g)"
   ]
  },
  {
   "cell_type": "code",
   "execution_count": 93,
   "id": "0611e413",
   "metadata": {},
   "outputs": [
    {
     "data": {
      "text/plain": [
       "[1,\n",
       " 2,\n",
       " 3,\n",
       " 4,\n",
       " 2,\n",
       " 3,\n",
       " 4,\n",
       " 5,\n",
       " 6,\n",
       " 3,\n",
       " 4,\n",
       " 5,\n",
       " 6,\n",
       " 7,\n",
       " 45,\n",
       " 4,\n",
       " 5,\n",
       " 23,\n",
       " 'k1',\n",
       " 'sudh',\n",
       " 'k2',\n",
       " 'ineuron',\n",
       " 'k3',\n",
       " 'kumar',\n",
       " 3,\n",
       " 6,\n",
       " 7,\n",
       " 8,\n",
       " 'ineuron',\n",
       " 'data science ']"
      ]
     },
     "execution_count": 93,
     "metadata": {},
     "output_type": "execute_result"
    }
   ],
   "source": [
    "l1"
   ]
  },
  {
   "cell_type": "code",
   "execution_count": 91,
   "id": "db838ed6",
   "metadata": {},
   "outputs": [],
   "source": [
    "l = [[1,2,3,4] , (2,3,4,5,6) , (3,4,5,6,7) , set([23,4,5,45,4,4,5,45,45,4,5]) , {'k1' :\"sudh\" , \"k2\" : \"ineuron\",\"k3\":\n",
    "            \"kumar\" , 3:6 , 7:8} , [\"ineuron\" , \"data science \"]]"
   ]
  },
  {
   "cell_type": "code",
   "execution_count": 94,
   "id": "6b14eaa0",
   "metadata": {},
   "outputs": [
    {
     "data": {
      "text/plain": [
       "[1,\n",
       " 2,\n",
       " 3,\n",
       " 4,\n",
       " 2,\n",
       " 3,\n",
       " 4,\n",
       " 5,\n",
       " 6,\n",
       " 3,\n",
       " 4,\n",
       " 5,\n",
       " 6,\n",
       " 7,\n",
       " 45,\n",
       " 4,\n",
       " 5,\n",
       " 23,\n",
       " 'k1',\n",
       " 'sudh',\n",
       " 'k2',\n",
       " 'ineuron',\n",
       " 'k3',\n",
       " 'kumar',\n",
       " 3,\n",
       " 6,\n",
       " 7,\n",
       " 8,\n",
       " 'ineuron',\n",
       " 'data science ']"
      ]
     },
     "execution_count": 94,
     "metadata": {},
     "output_type": "execute_result"
    }
   ],
   "source": [
    "l1"
   ]
  },
  {
   "cell_type": "code",
   "execution_count": 98,
   "id": "b43bce00",
   "metadata": {},
   "outputs": [
    {
     "name": "stdout",
     "output_type": "stream",
     "text": [
      "k3 : 1\n",
      "1 : 1\n",
      "2 : 2\n",
      "3 : 4\n",
      "4 : 4\n",
      "5 : 3\n",
      "6 : 3\n",
      "7 : 2\n",
      "sudh : 1\n",
      "k2 : 1\n",
      "kumar : 1\n",
      "8 : 1\n",
      "data science  : 1\n",
      "45 : 1\n",
      "23 : 1\n",
      "ineuron : 2\n",
      "k1 : 1\n"
     ]
    }
   ],
   "source": [
    "for i in set(l1) : \n",
    "    print(i , \":\" ,l1.count(i))"
   ]
  },
  {
   "cell_type": "code",
   "execution_count": 99,
   "id": "8fc6d7c0",
   "metadata": {},
   "outputs": [
    {
     "data": {
      "text/plain": [
       "[[1, 2, 3, 4],\n",
       " (2, 3, 4, 5, 6),\n",
       " (3, 4, 5, 6, 7),\n",
       " {4, 5, 23, 45},\n",
       " {'k1': 'sudh', 'k2': 'ineuron', 'k3': 'kumar', 3: 6, 7: 8},\n",
       " ['ineuron', 'data science ']]"
      ]
     },
     "execution_count": 99,
     "metadata": {},
     "output_type": "execute_result"
    }
   ],
   "source": [
    "l"
   ]
  },
  {
   "cell_type": "code",
   "execution_count": 104,
   "id": "2e07969f",
   "metadata": {},
   "outputs": [
    {
     "name": "stdout",
     "output_type": "stream",
     "text": [
      "5\n"
     ]
    }
   ],
   "source": [
    "for i in l :\n",
    "    if type(i) == dict :\n",
    "        print(len(i))"
   ]
  },
  {
   "cell_type": "code",
   "execution_count": 105,
   "id": "120d54cf",
   "metadata": {},
   "outputs": [
    {
     "data": {
      "text/plain": [
       "[1,\n",
       " 2,\n",
       " 3,\n",
       " 4,\n",
       " 2,\n",
       " 3,\n",
       " 4,\n",
       " 5,\n",
       " 6,\n",
       " 3,\n",
       " 4,\n",
       " 5,\n",
       " 6,\n",
       " 7,\n",
       " 45,\n",
       " 4,\n",
       " 5,\n",
       " 23,\n",
       " 'k1',\n",
       " 'sudh',\n",
       " 'k2',\n",
       " 'ineuron',\n",
       " 'k3',\n",
       " 'kumar',\n",
       " 3,\n",
       " 6,\n",
       " 7,\n",
       " 8,\n",
       " 'ineuron',\n",
       " 'data science ']"
      ]
     },
     "execution_count": 105,
     "metadata": {},
     "output_type": "execute_result"
    }
   ],
   "source": [
    "l1"
   ]
  },
  {
   "cell_type": "code",
   "execution_count": 106,
   "id": "9c268bbc",
   "metadata": {},
   "outputs": [
    {
     "name": "stdout",
     "output_type": "stream",
     "text": [
      "k1\n",
      "sudh\n",
      "k2\n",
      "ineuron\n",
      "k3\n",
      "kumar\n",
      "ineuron\n",
      "data science \n"
     ]
    }
   ],
   "source": [
    "for i in l1 :\n",
    "    if type(i) == str:\n",
    "        print(i)"
   ]
  },
  {
   "cell_type": "code",
   "execution_count": 108,
   "id": "e34c8efd",
   "metadata": {},
   "outputs": [
    {
     "data": {
      "text/plain": [
       "[1,\n",
       " 2,\n",
       " 3,\n",
       " 4,\n",
       " 2,\n",
       " 3,\n",
       " 4,\n",
       " 5,\n",
       " 6,\n",
       " 3,\n",
       " 4,\n",
       " 5,\n",
       " 6,\n",
       " 7,\n",
       " 45,\n",
       " 4,\n",
       " 5,\n",
       " 23,\n",
       " 'k1',\n",
       " 'sudh',\n",
       " 'k2',\n",
       " 'ineuron',\n",
       " 'k3',\n",
       " 'kumar',\n",
       " 3,\n",
       " 6,\n",
       " 7,\n",
       " 8,\n",
       " 'ineuron',\n",
       " 'data science ']"
      ]
     },
     "execution_count": 108,
     "metadata": {},
     "output_type": "execute_result"
    }
   ],
   "source": [
    "l1"
   ]
  },
  {
   "cell_type": "code",
   "execution_count": 110,
   "id": "c32f22ea",
   "metadata": {},
   "outputs": [
    {
     "name": "stdout",
     "output_type": "stream",
     "text": [
      "k1\n",
      "sudh\n",
      "k2\n",
      "ineuron\n",
      "k3\n",
      "kumar\n",
      "ineuron\n"
     ]
    }
   ],
   "source": [
    "for i in l1 :\n",
    "    if type(i) == str :\n",
    "        if i.isalnum() : \n",
    "            print(i)"
   ]
  },
  {
   "cell_type": "code",
   "execution_count": 111,
   "id": "9fcc3447",
   "metadata": {},
   "outputs": [
    {
     "data": {
      "text/plain": [
       "[1,\n",
       " 2,\n",
       " 3,\n",
       " 4,\n",
       " 2,\n",
       " 3,\n",
       " 4,\n",
       " 5,\n",
       " 6,\n",
       " 3,\n",
       " 4,\n",
       " 5,\n",
       " 6,\n",
       " 7,\n",
       " 45,\n",
       " 4,\n",
       " 5,\n",
       " 23,\n",
       " 'k1',\n",
       " 'sudh',\n",
       " 'k2',\n",
       " 'ineuron',\n",
       " 'k3',\n",
       " 'kumar',\n",
       " 3,\n",
       " 6,\n",
       " 7,\n",
       " 8,\n",
       " 'ineuron',\n",
       " 'data science ']"
      ]
     },
     "execution_count": 111,
     "metadata": {},
     "output_type": "execute_result"
    }
   ],
   "source": [
    "l1"
   ]
  },
  {
   "cell_type": "code",
   "execution_count": 118,
   "id": "9041a639",
   "metadata": {},
   "outputs": [
    {
     "name": "stdout",
     "output_type": "stream",
     "text": [
      "908605071360000\n"
     ]
    }
   ],
   "source": [
    "j = 1\n",
    "for i in l1 : \n",
    "    if type(i) == int :\n",
    "        j = j*i\n",
    "print(j)\n",
    "        "
   ]
  },
  {
   "cell_type": "code",
   "execution_count": 114,
   "id": "0aae9966",
   "metadata": {},
   "outputs": [
    {
     "data": {
      "text/plain": [
       "[1, 2, 3, 4, 2, 3, 4, 5, 6, 3, 4, 5, 6, 7, 45, 4, 5, 23, 3, 6, 7, 8]"
      ]
     },
     "execution_count": 114,
     "metadata": {},
     "output_type": "execute_result"
    }
   ],
   "source": [
    "l2"
   ]
  },
  {
   "cell_type": "code",
   "execution_count": 119,
   "id": "a05d8a10",
   "metadata": {},
   "outputs": [
    {
     "data": {
      "text/plain": [
       "[[1, 2, 3, 4],\n",
       " (2, 3, 4, 5, 6),\n",
       " (3, 4, 5, 6, 7),\n",
       " {4, 5, 23, 45},\n",
       " {'k1': 'sudh', 'k2': 'ineuron', 'k3': 'kumar', 3: 6, 7: 8},\n",
       " ['ineuron', 'data science ']]"
      ]
     },
     "execution_count": 119,
     "metadata": {},
     "output_type": "execute_result"
    }
   ],
   "source": [
    "#q14 : Try to find out multiplication of all numeric value in the individual collection inside dataset\n",
    "l"
   ]
  },
  {
   "cell_type": "code",
   "execution_count": 124,
   "id": "de5e4a94",
   "metadata": {},
   "outputs": [
    {
     "name": "stdout",
     "output_type": "stream",
     "text": [
      "<class 'list'> 24\n",
      "<class 'tuple'> 720\n",
      "<class 'tuple'> 2520\n",
      "<class 'set'> 20700\n",
      "<class 'dict'> 1008\n",
      "<class 'list'> 1\n"
     ]
    }
   ],
   "source": [
    "\n",
    "for i in l :\n",
    "    m = 1\n",
    "    if type(i) == list  or type(i)  == tuple or type(i) == set :\n",
    "        for j in i :\n",
    "            if type(j) == int :\n",
    "                m = m * j\n",
    "        print(type(i) , m)\n",
    "    if type(i) == dict:\n",
    "        for k in i.items():\n",
    "            for n in k :\n",
    "                if type(n) == int : \n",
    "                    m = m * n\n",
    "        print(type(i) , m)            \n",
    "                    \n",
    "                \n",
    " \n",
    "            "
   ]
  },
  {
   "cell_type": "code",
   "execution_count": 125,
   "id": "cc9bc68d",
   "metadata": {},
   "outputs": [
    {
     "ename": "SyntaxError",
     "evalue": "invalid syntax (Temp/ipykernel_16624/1882859807.py, line 1)",
     "output_type": "error",
     "traceback": [
      "\u001b[1;36m  File \u001b[1;32m\"C:\\Users\\win10\\AppData\\Local\\Temp/ipykernel_16624/1882859807.py\"\u001b[1;36m, line \u001b[1;32m1\u001b[0m\n\u001b[1;33m    Q.15) Try to unwrape all the collection inside collection and create a flat list.\u001b[0m\n\u001b[1;37m     ^\u001b[0m\n\u001b[1;31mSyntaxError\u001b[0m\u001b[1;31m:\u001b[0m invalid syntax\n"
     ]
    }
   ],
   "source": [
    "Q.15) Try to unwrape all the collection inside collection and create a flat list.\n"
   ]
  },
  {
   "cell_type": "code",
   "execution_count": 126,
   "id": "b6f1cb89",
   "metadata": {},
   "outputs": [
    {
     "data": {
      "text/plain": [
       "[1,\n",
       " 2,\n",
       " 3,\n",
       " 4,\n",
       " 2,\n",
       " 3,\n",
       " 4,\n",
       " 5,\n",
       " 6,\n",
       " 3,\n",
       " 4,\n",
       " 5,\n",
       " 6,\n",
       " 7,\n",
       " 45,\n",
       " 4,\n",
       " 5,\n",
       " 23,\n",
       " 'k1',\n",
       " 'sudh',\n",
       " 'k2',\n",
       " 'ineuron',\n",
       " 'k3',\n",
       " 'kumar',\n",
       " 3,\n",
       " 6,\n",
       " 7,\n",
       " 8,\n",
       " 'ineuron',\n",
       " 'data science ']"
      ]
     },
     "execution_count": 126,
     "metadata": {},
     "output_type": "execute_result"
    }
   ],
   "source": [
    "l1"
   ]
  },
  {
   "cell_type": "code",
   "execution_count": null,
   "id": "7539656e",
   "metadata": {},
   "outputs": [],
   "source": [
    "    \n",
    "q1 : Try to print this by using while loop \n",
    "* \n",
    "* * \n",
    "* * * \n",
    "* * * * \n",
    "* * * * * \n",
    "* * * * * * \n",
    "* * * * * * * \n",
    "* * * * * * * * \n",
    "* * * * * * * * * \n",
    "\n",
    "q2 : try to print below by using while loop : \n",
    "        \n",
    "A\n",
    "B H \n",
    "C I N\n",
    "D J o S\n",
    "E K p T W\n",
    "F L Q U X z\n",
    "G M R V Y \n",
    "\n",
    "q3 : Try to print all the number divisible by 3 in between a range of 40 - 400\n",
    "    \n",
    "q4 : Try to filter out all the vowels form below text by using while loop : \n",
    " \"\"\"Python is a high-level, interpreted, general-purpose programming language. Its design philosophy emphasizes code readability with the use of significant indentation.[32]\n",
    "\n",
    "Python is dynamically-typed and garbage-collected. It supports multiple programming paradigms, including structured (particularly procedural), object-oriented and functional programming. It is often described as a \"batteries included\" language due to its comprehensive standard library.[33][34]\n",
    "\n",
    "Guido van Rossum began working on Python in the late 1980s as a successor to the ABC programming language and first released it in 1991 as Python 0.9.0.[35] Python 2.0 was released in 2000 and introduced new features such as list comprehensions, cycle-detecting garbage collection, reference counting, and Unicode support. Python 3.0, released in 2008, was a major revision that is not completely backward-compatible with earlier versions. Python 2 was discontinued with version 2.7.18 in 2020.[36]\n",
    "\n",
    "Python consistently ranks as one of the most popular programming languagesc\"\"\" \n",
    "\n",
    "\n",
    "q5 : Try to generate all the even number between 1- 1000\n",
    "\n",
    "q6 : Define a function for all the above problem statememnt  . \n",
    "    \n",
    "q7 : write a code to get a time of your system \n",
    "\n",
    "q8 : Write a code to fetch date form your system \n",
    "\n",
    "q9 : Write a code to send a mail to your friend \n",
    "\n",
    "q10 : write a code to trigger alarm for you at scheduled time \n",
    "\n",
    "q11 : write a code to check ip address of your system \n",
    "\n",
    "q12 : Write a code to check a perticular installation in your system\n",
    "\n",
    "q13 : Write a code to convert any text in to voice \n",
    "\n",
    "q14 : you have to write a fun which will take string and return a len of \n",
    "it without using a inbuilt fun len\n",
    "\n",
    "q15 :write a fun which will be able to print an index of all premitive element which you will pass \n",
    "\n",
    "q16 : Write a fun which will take input as a dict and give me out as a list of all the values \n",
    "even in case of 2 level nesting it should work . \n",
    "\n",
    "q17 : write a function whihc will take multiple list as a input and give me concatnation of all the element as \n",
    "and output\n",
    "\n",
    "q18 : Write a function which will whould return list of all the file name from a directory . \n",
    "\n",
    "q19 : write a function whihc will be able to read a image file and show it to you .\n",
    "    \n",
    "q20 : write a function by which you will be able to append two PDF files . \n",
    "    \n",
    "q21 : write a function which can help you to filter only word file from a directory . \n",
    "    \n",
    "q22 : write a function which can read video file and play for you . \n",
    "    \n",
    "q23 : write a function which will be able to shutdonw your system . \n",
    "\n",
    "q24 : Write a function which will whould return list of all the file name from a directory . \n",
    "\n",
    "q25 : write a function whihc will be able to access your mail . \n",
    "        "
   ]
  },
  {
   "cell_type": "code",
   "execution_count": null,
   "id": "8088d375",
   "metadata": {},
   "outputs": [],
   "source": [
    "q1 : Try to print this by using while loop \n",
    "* \n",
    "* * \n",
    "* * * \n",
    "* * * * \n",
    "* * * * * \n",
    "* * * * * * \n",
    "* * * * * * * \n",
    "* * * * * * * * \n",
    "* * * * * * * * * "
   ]
  },
  {
   "cell_type": "code",
   "execution_count": 131,
   "id": "1fd266a3",
   "metadata": {},
   "outputs": [
    {
     "name": "stdout",
     "output_type": "stream",
     "text": [
      "* \n",
      "* * \n",
      "* * * \n",
      "* * * * \n",
      "* * * * * \n",
      "* * * * * * \n",
      "* * * * * * * \n",
      "* * * * * * * * \n",
      "* * * * * * * * * \n"
     ]
    }
   ],
   "source": [
    "i = 9 \n",
    "n = 1 \n",
    "while n <= i : \n",
    "    print('* '*n)\n",
    "    n = n+1"
   ]
  },
  {
   "cell_type": "code",
   "execution_count": null,
   "id": "446ea974",
   "metadata": {},
   "outputs": [],
   "source": [
    "q2 : try to print below by using while loop : \n",
    "        \n",
    "A\n",
    "B H \n",
    "C I N\n",
    "D J o S\n",
    "E K p T W\n",
    "F L Q U X z\n",
    "G M R V Y "
   ]
  },
  {
   "cell_type": "code",
   "execution_count": 132,
   "id": "ac39e693",
   "metadata": {},
   "outputs": [
    {
     "name": "stdout",
     "output_type": "stream",
     "text": [
      "\n",
      " A\n",
      " B H\n",
      " C I N\n",
      " D J O S\n",
      " E K P T W\n",
      " F L Q U X Z\n",
      " G M R V Y\n"
     ]
    }
   ],
   "source": [
    "x=0\n",
    "while x<8:\n",
    "    content = \"\"\n",
    "    y=0\n",
    "    while y<x:\n",
    "        z=0\n",
    "        sum=0\n",
    "        while z<y:\n",
    "            sum+=6-z \n",
    "            z+=1\n",
    "        if (x + 64 + sum) <= (64 + 26):\n",
    "            content += \" \" + chr(x + 64 + sum)\n",
    "        y+=1\n",
    "    print(content)\n",
    "    x+=1\n"
   ]
  },
  {
   "cell_type": "code",
   "execution_count": 135,
   "id": "52a7c0a2",
   "metadata": {},
   "outputs": [
    {
     "data": {
      "text/plain": [
       "'C'"
      ]
     },
     "execution_count": 135,
     "metadata": {},
     "output_type": "execute_result"
    }
   ],
   "source": [
    "chr(67)"
   ]
  },
  {
   "cell_type": "code",
   "execution_count": 1,
   "id": "50c2d2a4",
   "metadata": {},
   "outputs": [
    {
     "name": "stdout",
     "output_type": "stream",
     "text": [
      "A \n",
      "B H \n",
      "C I N \n",
      "D J O S \n",
      "E K P T W \n",
      "F L Q U X Z \n",
      "G M R V Y [ \\ \n"
     ]
    }
   ],
   "source": [
    "n = 7\n",
    "i = 1\n",
    "while(i<=n):\n",
    "    k = i\n",
    "    j = 1\n",
    "    while(j<=i):\n",
    "        print(chr(64+k),end = \" \")\n",
    "        k = k + n - j\n",
    "        j = j + 1\n",
    "    print()\n",
    "    i = i + 1\n"
   ]
  },
  {
   "cell_type": "code",
   "execution_count": 5,
   "id": "e6ece757",
   "metadata": {},
   "outputs": [
    {
     "name": "stdout",
     "output_type": "stream",
     "text": [
      "A \n",
      "B H \n",
      "C I N \n",
      "D J O S \n",
      "E K P T W \n",
      "F L Q U X Z \n",
      "G M R V Y [ \\ \n"
     ]
    }
   ],
   "source": []
  },
  {
   "cell_type": "code",
   "execution_count": 137,
   "id": "89286f25",
   "metadata": {},
   "outputs": [
    {
     "name": "stdout",
     "output_type": "stream",
     "text": [
      "A \n",
      "B H \n",
      "C I N \n",
      "D J O S \n",
      "E K P T W \n",
      "F L Q U X Z \n",
      "G M R V Y \n"
     ]
    }
   ],
   "source": [
    "i=0\n",
    "while i<7:\n",
    "    l=7\n",
    "    k=i+65  \n",
    "    for j in range(i+1):\n",
    "        if chr(k).isalpha():\n",
    "         print(chr(k),end=\" \") \n",
    "         l-=1\n",
    "         k+=l     \n",
    "    i += 1\n",
    "    print()\n"
   ]
  },
  {
   "cell_type": "code",
   "execution_count": 142,
   "id": "623cfb1a",
   "metadata": {},
   "outputs": [
    {
     "name": "stdout",
     "output_type": "stream",
     "text": [
      "0\n",
      "65\n",
      "0\n",
      "A 65\n",
      "71\n",
      "1\n",
      "1\n",
      "\n",
      "1\n",
      "66\n",
      "0\n",
      "B 66\n",
      "72\n",
      "1\n",
      "H 72\n",
      "77\n",
      "2\n",
      "2\n",
      "\n",
      "2\n",
      "67\n",
      "0\n",
      "C 67\n",
      "73\n",
      "1\n",
      "I 73\n",
      "78\n",
      "2\n",
      "N 78\n",
      "82\n",
      "3\n",
      "3\n",
      "\n",
      "3\n",
      "68\n",
      "0\n",
      "D 68\n",
      "74\n",
      "1\n",
      "J 74\n",
      "79\n",
      "2\n",
      "O 79\n",
      "83\n",
      "3\n",
      "S 83\n",
      "86\n",
      "4\n",
      "4\n",
      "\n",
      "4\n",
      "69\n",
      "0\n",
      "E 69\n",
      "75\n",
      "1\n",
      "K 75\n",
      "80\n",
      "2\n",
      "P 80\n",
      "84\n",
      "3\n",
      "T 84\n",
      "87\n",
      "4\n",
      "W 87\n",
      "89\n",
      "5\n",
      "5\n",
      "\n",
      "5\n",
      "70\n",
      "0\n",
      "F 70\n",
      "76\n",
      "1\n",
      "L 76\n",
      "81\n",
      "2\n",
      "Q 81\n",
      "85\n",
      "3\n",
      "U 85\n",
      "88\n",
      "4\n",
      "X 88\n",
      "90\n",
      "5\n",
      "Z 90\n",
      "91\n",
      "6\n",
      "6\n",
      "\n",
      "6\n",
      "71\n",
      "0\n",
      "G 71\n",
      "77\n",
      "1\n",
      "M 77\n",
      "82\n",
      "2\n",
      "R 82\n",
      "86\n",
      "3\n",
      "V 86\n",
      "89\n",
      "4\n",
      "Y 89\n",
      "91\n",
      "5\n",
      "7\n",
      "\n"
     ]
    }
   ],
   "source": []
  },
  {
   "cell_type": "code",
   "execution_count": 139,
   "id": "fcb4bd0a",
   "metadata": {},
   "outputs": [
    {
     "data": {
      "text/plain": [
       "'A'"
      ]
     },
     "execution_count": 139,
     "metadata": {},
     "output_type": "execute_result"
    }
   ],
   "source": [
    "chr(65)"
   ]
  },
  {
   "cell_type": "code",
   "execution_count": null,
   "id": "3836247f",
   "metadata": {},
   "outputs": [],
   "source": [
    "q3 : Try to print all the number divisible by 3 in between a range of 40 - 400"
   ]
  },
  {
   "cell_type": "code",
   "execution_count": 144,
   "id": "a87d29d3",
   "metadata": {},
   "outputs": [
    {
     "name": "stdout",
     "output_type": "stream",
     "text": [
      "42\n",
      "45\n",
      "48\n",
      "51\n",
      "54\n",
      "57\n",
      "60\n",
      "63\n",
      "66\n",
      "69\n",
      "72\n",
      "75\n",
      "78\n",
      "81\n",
      "84\n",
      "87\n",
      "90\n",
      "93\n",
      "96\n",
      "99\n",
      "102\n",
      "105\n",
      "108\n",
      "111\n",
      "114\n",
      "117\n",
      "120\n",
      "123\n",
      "126\n",
      "129\n",
      "132\n",
      "135\n",
      "138\n",
      "141\n",
      "144\n",
      "147\n",
      "150\n",
      "153\n",
      "156\n",
      "159\n",
      "162\n",
      "165\n",
      "168\n",
      "171\n",
      "174\n",
      "177\n",
      "180\n",
      "183\n",
      "186\n",
      "189\n",
      "192\n",
      "195\n",
      "198\n",
      "201\n",
      "204\n",
      "207\n",
      "210\n",
      "213\n",
      "216\n",
      "219\n",
      "222\n",
      "225\n",
      "228\n",
      "231\n",
      "234\n",
      "237\n",
      "240\n",
      "243\n",
      "246\n",
      "249\n",
      "252\n",
      "255\n",
      "258\n",
      "261\n",
      "264\n",
      "267\n",
      "270\n",
      "273\n",
      "276\n",
      "279\n",
      "282\n",
      "285\n",
      "288\n",
      "291\n",
      "294\n",
      "297\n",
      "300\n",
      "303\n",
      "306\n",
      "309\n",
      "312\n",
      "315\n",
      "318\n",
      "321\n",
      "324\n",
      "327\n",
      "330\n",
      "333\n",
      "336\n",
      "339\n",
      "342\n",
      "345\n",
      "348\n",
      "351\n",
      "354\n",
      "357\n",
      "360\n",
      "363\n",
      "366\n",
      "369\n",
      "372\n",
      "375\n",
      "378\n",
      "381\n",
      "384\n",
      "387\n",
      "390\n",
      "393\n",
      "396\n",
      "399\n"
     ]
    }
   ],
   "source": [
    "i = 40 \n",
    "while i <= 400 :\n",
    "    if i % 3 ==0 :\n",
    "        print(i)\n",
    "    i = i+1"
   ]
  },
  {
   "cell_type": "code",
   "execution_count": null,
   "id": "04f3329b",
   "metadata": {},
   "outputs": [],
   "source": [
    "q4 : Try to filter out all the vowels form below text by using while loop : \n",
    " \"\"\"Python is a high-level, interpreted, general-purpose programming language. Its design philosophy emphasizes code readability with the use of significant indentation.[32]\n",
    "\n",
    "Python is dynamically-typed and garbage-collected. It supports multiple programming paradigms, including structured (particularly procedural), object-oriented and functional programming. It is often described as a \"batteries included\" language due to its comprehensive standard library.[33][34]\n",
    "\n",
    "Guido van Rossum began working on Python in the late 1980s as a successor to the ABC programming language and first released it in 1991 as Python 0.9.0.[35] Python 2.0 was released in 2000 and introduced new features such as list comprehensions, cycle-detecting garbage collection, reference counting, and Unicode support. Python 3.0, released in 2008, was a major revision that is not completely backward-compatible with earlier versions. Python 2 was discontinued with version 2.7.18 in 2020.[36]\n",
    "\n",
    "Python consistently ranks as one of the most popular programming languagesc\"\"\" \n",
    "\n",
    "\n",
    "q5 : Try to generate all the even number between 1- 1000\n",
    "\n",
    "q6 : Define a function for all the above problem statememnt  . \n",
    "    \n",
    "q7 : write a code to get a time of your system \n",
    "\n",
    "q8 : Write a code to fetch date form your system \n",
    "\n",
    "q9 : Write a code to send a mail to your friend \n",
    "\n",
    "q10 : write a code to trigger alarm for you at scheduled time \n",
    "\n",
    "q11 : write a code to check ip address of your system \n",
    "\n",
    "q12 : Write a code to check a perticular installation in your system\n",
    "\n",
    "q13 : Write a code to convert any text in to voice \n",
    "\n",
    "q14 : you have to write a fun which will take string and return a len of \n",
    "it without using a inbuilt fun len\n",
    "\n",
    "q15 :write a fun which will be able to print an index of all premitive element which you will pass \n",
    "\n",
    "q16 : Write a fun which will take input as a dict and give me out as a list of all the values \n",
    "even in case of 2 level nesting it should work . \n",
    "\n",
    "q17 : write a function whihc will take multiple list as a input and give me concatnation of all the element as \n",
    "and output\n",
    "\n",
    "q18 : Write a function which will whould return list of all the file name from a directory . \n",
    "\n",
    "q19 : write a function whihc will be able to read a image file and show it to you .\n",
    "    \n",
    "q20 : write a function by which you will be able to append two PDF files . \n",
    "    \n",
    "q21 : write a function which can help you to filter only word file from a directory . \n",
    "    \n",
    "q22 : write a function which can read video file and play for you . \n",
    "    \n",
    "q23 : write a function which will be able to shutdonw your system . \n",
    "\n",
    "q24 : Write a function which will whould return list of all the file name from a directory . \n",
    "\n",
    "q25 : write a function whihc will be able to access your mail ."
   ]
  },
  {
   "cell_type": "code",
   "execution_count": 145,
   "id": "e14f7ace",
   "metadata": {},
   "outputs": [],
   "source": [
    "s =  \"\"\"Python is a high-level, interpreted, general-purpose programming language. Its design philosophy emphasizes code readability with the use of significant indentation.[32]\n",
    "\n",
    "Python is dynamically-typed and garbage-collected. It supports multiple programming paradigms, including structured (particularly procedural), object-oriented and functional programming. It is often described as a \"batteries included\" language due to its comprehensive standard library.[33][34]\n",
    "\n",
    "Guido van Rossum began working on Python in the late 1980s as a successor to the ABC programming language and first released it in 1991 as Python 0.9.0.[35] Python 2.0 was released in 2000 and introduced new features such as list comprehensions, cycle-detecting garbage collection, reference counting, and Unicode support. Python 3.0, released in 2008, was a major revision that is not completely backward-compatible with earlier versions. Python 2 was discontinued with version 2.7.18 in 2020.[36]\n",
    "\n",
    "Python consistently ranks as one of the most popular programming languagesc\"\"\" "
   ]
  },
  {
   "cell_type": "code",
   "execution_count": 148,
   "id": "ac4ad853",
   "metadata": {},
   "outputs": [],
   "source": [
    "def vowel(s):\n",
    "    \n",
    "    i = 0 \n",
    "    v = 'aeiou'\n",
    "    s = s.lower()\n",
    "    while i < len(s):\n",
    "        if s[i] in v :\n",
    "            print(s[i])\n",
    "        i = i+1\n"
   ]
  },
  {
   "cell_type": "code",
   "execution_count": 149,
   "id": "40705e08",
   "metadata": {},
   "outputs": [
    {
     "name": "stdout",
     "output_type": "stream",
     "text": [
      "o\n",
      "i\n",
      "a\n",
      "i\n",
      "e\n",
      "e\n",
      "i\n",
      "e\n",
      "e\n",
      "e\n",
      "e\n",
      "e\n",
      "a\n",
      "u\n",
      "o\n",
      "e\n",
      "o\n",
      "a\n",
      "i\n",
      "a\n",
      "u\n",
      "a\n",
      "e\n",
      "i\n",
      "e\n",
      "i\n",
      "i\n",
      "o\n",
      "o\n",
      "e\n",
      "a\n",
      "i\n",
      "e\n",
      "o\n",
      "e\n",
      "e\n",
      "a\n",
      "a\n",
      "i\n",
      "i\n",
      "i\n",
      "e\n",
      "u\n",
      "e\n",
      "o\n",
      "i\n",
      "i\n",
      "i\n",
      "a\n",
      "i\n",
      "e\n",
      "a\n",
      "i\n",
      "o\n",
      "o\n",
      "i\n",
      "a\n",
      "i\n",
      "a\n",
      "e\n",
      "a\n",
      "a\n",
      "a\n",
      "e\n",
      "o\n",
      "e\n",
      "e\n",
      "i\n",
      "u\n",
      "o\n",
      "u\n",
      "i\n",
      "e\n",
      "o\n",
      "a\n",
      "i\n",
      "a\n",
      "a\n",
      "i\n",
      "i\n",
      "u\n",
      "i\n",
      "u\n",
      "u\n",
      "e\n",
      "a\n",
      "i\n",
      "u\n",
      "a\n",
      "o\n",
      "e\n",
      "u\n",
      "a\n",
      "o\n",
      "e\n",
      "o\n",
      "i\n",
      "e\n",
      "e\n",
      "a\n",
      "u\n",
      "i\n",
      "o\n",
      "a\n",
      "o\n",
      "a\n",
      "i\n",
      "i\n",
      "i\n",
      "o\n",
      "e\n",
      "e\n",
      "i\n",
      "e\n",
      "a\n",
      "a\n",
      "a\n",
      "e\n",
      "i\n",
      "e\n",
      "i\n",
      "u\n",
      "e\n",
      "a\n",
      "u\n",
      "a\n",
      "e\n",
      "u\n",
      "e\n",
      "o\n",
      "i\n",
      "o\n",
      "e\n",
      "e\n",
      "i\n",
      "e\n",
      "a\n",
      "a\n",
      "i\n",
      "a\n",
      "u\n",
      "i\n",
      "o\n",
      "a\n",
      "o\n",
      "u\n",
      "e\n",
      "a\n",
      "o\n",
      "i\n",
      "o\n",
      "o\n",
      "i\n",
      "e\n",
      "a\n",
      "e\n",
      "a\n",
      "a\n",
      "u\n",
      "e\n",
      "o\n",
      "o\n",
      "e\n",
      "a\n",
      "o\n",
      "a\n",
      "i\n",
      "a\n",
      "u\n",
      "a\n",
      "e\n",
      "a\n",
      "i\n",
      "e\n",
      "e\n",
      "a\n",
      "e\n",
      "i\n",
      "i\n",
      "a\n",
      "o\n",
      "o\n",
      "a\n",
      "e\n",
      "e\n",
      "a\n",
      "e\n",
      "i\n",
      "a\n",
      "i\n",
      "o\n",
      "u\n",
      "e\n",
      "e\n",
      "e\n",
      "a\n",
      "u\n",
      "e\n",
      "u\n",
      "a\n",
      "i\n",
      "o\n",
      "e\n",
      "e\n",
      "i\n",
      "o\n",
      "e\n",
      "e\n",
      "e\n",
      "i\n",
      "a\n",
      "a\n",
      "e\n",
      "o\n",
      "e\n",
      "i\n",
      "o\n",
      "e\n",
      "e\n",
      "e\n",
      "e\n",
      "o\n",
      "u\n",
      "i\n",
      "a\n",
      "u\n",
      "i\n",
      "o\n",
      "e\n",
      "u\n",
      "o\n",
      "o\n",
      "e\n",
      "e\n",
      "a\n",
      "e\n",
      "i\n",
      "a\n",
      "a\n",
      "a\n",
      "o\n",
      "e\n",
      "i\n",
      "i\n",
      "o\n",
      "a\n",
      "i\n",
      "o\n",
      "o\n",
      "e\n",
      "e\n",
      "a\n",
      "a\n",
      "o\n",
      "a\n",
      "i\n",
      "e\n",
      "i\n",
      "e\n",
      "a\n",
      "i\n",
      "e\n",
      "e\n",
      "i\n",
      "o\n",
      "o\n",
      "a\n",
      "i\n",
      "o\n",
      "i\n",
      "u\n",
      "e\n",
      "i\n",
      "e\n",
      "i\n",
      "o\n",
      "i\n",
      "o\n",
      "o\n",
      "i\n",
      "e\n",
      "a\n",
      "a\n",
      "o\n",
      "e\n",
      "o\n",
      "e\n",
      "o\n",
      "o\n",
      "u\n",
      "a\n",
      "o\n",
      "a\n",
      "i\n",
      "a\n",
      "u\n",
      "a\n",
      "e\n"
     ]
    }
   ],
   "source": [
    "vowel(s)"
   ]
  },
  {
   "cell_type": "code",
   "execution_count": 147,
   "id": "addcf099",
   "metadata": {},
   "outputs": [
    {
     "name": "stdout",
     "output_type": "stream",
     "text": [
      "2\n",
      "4\n",
      "6\n",
      "8\n",
      "10\n",
      "12\n",
      "14\n",
      "16\n",
      "18\n",
      "20\n",
      "22\n",
      "24\n",
      "26\n",
      "28\n",
      "30\n",
      "32\n",
      "34\n",
      "36\n",
      "38\n",
      "40\n",
      "42\n",
      "44\n",
      "46\n",
      "48\n",
      "50\n",
      "52\n",
      "54\n",
      "56\n",
      "58\n",
      "60\n",
      "62\n",
      "64\n",
      "66\n",
      "68\n",
      "70\n",
      "72\n",
      "74\n",
      "76\n",
      "78\n",
      "80\n",
      "82\n",
      "84\n",
      "86\n",
      "88\n",
      "90\n",
      "92\n",
      "94\n",
      "96\n",
      "98\n",
      "100\n",
      "102\n",
      "104\n",
      "106\n",
      "108\n",
      "110\n",
      "112\n",
      "114\n",
      "116\n",
      "118\n",
      "120\n",
      "122\n",
      "124\n",
      "126\n",
      "128\n",
      "130\n",
      "132\n",
      "134\n",
      "136\n",
      "138\n",
      "140\n",
      "142\n",
      "144\n",
      "146\n",
      "148\n",
      "150\n",
      "152\n",
      "154\n",
      "156\n",
      "158\n",
      "160\n",
      "162\n",
      "164\n",
      "166\n",
      "168\n",
      "170\n",
      "172\n",
      "174\n",
      "176\n",
      "178\n",
      "180\n",
      "182\n",
      "184\n",
      "186\n",
      "188\n",
      "190\n",
      "192\n",
      "194\n",
      "196\n",
      "198\n",
      "200\n",
      "202\n",
      "204\n",
      "206\n",
      "208\n",
      "210\n",
      "212\n",
      "214\n",
      "216\n",
      "218\n",
      "220\n",
      "222\n",
      "224\n",
      "226\n",
      "228\n",
      "230\n",
      "232\n",
      "234\n",
      "236\n",
      "238\n",
      "240\n",
      "242\n",
      "244\n",
      "246\n",
      "248\n",
      "250\n",
      "252\n",
      "254\n",
      "256\n",
      "258\n",
      "260\n",
      "262\n",
      "264\n",
      "266\n",
      "268\n",
      "270\n",
      "272\n",
      "274\n",
      "276\n",
      "278\n",
      "280\n",
      "282\n",
      "284\n",
      "286\n",
      "288\n",
      "290\n",
      "292\n",
      "294\n",
      "296\n",
      "298\n",
      "300\n",
      "302\n",
      "304\n",
      "306\n",
      "308\n",
      "310\n",
      "312\n",
      "314\n",
      "316\n",
      "318\n",
      "320\n",
      "322\n",
      "324\n",
      "326\n",
      "328\n",
      "330\n",
      "332\n",
      "334\n",
      "336\n",
      "338\n",
      "340\n",
      "342\n",
      "344\n",
      "346\n",
      "348\n",
      "350\n",
      "352\n",
      "354\n",
      "356\n",
      "358\n",
      "360\n",
      "362\n",
      "364\n",
      "366\n",
      "368\n",
      "370\n",
      "372\n",
      "374\n",
      "376\n",
      "378\n",
      "380\n",
      "382\n",
      "384\n",
      "386\n",
      "388\n",
      "390\n",
      "392\n",
      "394\n",
      "396\n",
      "398\n",
      "400\n",
      "402\n",
      "404\n",
      "406\n",
      "408\n",
      "410\n",
      "412\n",
      "414\n",
      "416\n",
      "418\n",
      "420\n",
      "422\n",
      "424\n",
      "426\n",
      "428\n",
      "430\n",
      "432\n",
      "434\n",
      "436\n",
      "438\n",
      "440\n",
      "442\n",
      "444\n",
      "446\n",
      "448\n",
      "450\n",
      "452\n",
      "454\n",
      "456\n",
      "458\n",
      "460\n",
      "462\n",
      "464\n",
      "466\n",
      "468\n",
      "470\n",
      "472\n",
      "474\n",
      "476\n",
      "478\n",
      "480\n",
      "482\n",
      "484\n",
      "486\n",
      "488\n",
      "490\n",
      "492\n",
      "494\n",
      "496\n",
      "498\n",
      "500\n",
      "502\n",
      "504\n",
      "506\n",
      "508\n",
      "510\n",
      "512\n",
      "514\n",
      "516\n",
      "518\n",
      "520\n",
      "522\n",
      "524\n",
      "526\n",
      "528\n",
      "530\n",
      "532\n",
      "534\n",
      "536\n",
      "538\n",
      "540\n",
      "542\n",
      "544\n",
      "546\n",
      "548\n",
      "550\n",
      "552\n",
      "554\n",
      "556\n",
      "558\n",
      "560\n",
      "562\n",
      "564\n",
      "566\n",
      "568\n",
      "570\n",
      "572\n",
      "574\n",
      "576\n",
      "578\n",
      "580\n",
      "582\n",
      "584\n",
      "586\n",
      "588\n",
      "590\n",
      "592\n",
      "594\n",
      "596\n",
      "598\n",
      "600\n",
      "602\n",
      "604\n",
      "606\n",
      "608\n",
      "610\n",
      "612\n",
      "614\n",
      "616\n",
      "618\n",
      "620\n",
      "622\n",
      "624\n",
      "626\n",
      "628\n",
      "630\n",
      "632\n",
      "634\n",
      "636\n",
      "638\n",
      "640\n",
      "642\n",
      "644\n",
      "646\n",
      "648\n",
      "650\n",
      "652\n",
      "654\n",
      "656\n",
      "658\n",
      "660\n",
      "662\n",
      "664\n",
      "666\n",
      "668\n",
      "670\n",
      "672\n",
      "674\n",
      "676\n",
      "678\n",
      "680\n",
      "682\n",
      "684\n",
      "686\n",
      "688\n",
      "690\n",
      "692\n",
      "694\n",
      "696\n",
      "698\n",
      "700\n",
      "702\n",
      "704\n",
      "706\n",
      "708\n",
      "710\n",
      "712\n",
      "714\n",
      "716\n",
      "718\n",
      "720\n",
      "722\n",
      "724\n",
      "726\n",
      "728\n",
      "730\n",
      "732\n",
      "734\n",
      "736\n",
      "738\n",
      "740\n",
      "742\n",
      "744\n",
      "746\n",
      "748\n",
      "750\n",
      "752\n",
      "754\n",
      "756\n",
      "758\n",
      "760\n",
      "762\n",
      "764\n",
      "766\n",
      "768\n",
      "770\n",
      "772\n",
      "774\n",
      "776\n",
      "778\n",
      "780\n",
      "782\n",
      "784\n",
      "786\n",
      "788\n",
      "790\n",
      "792\n",
      "794\n",
      "796\n",
      "798\n",
      "800\n",
      "802\n",
      "804\n",
      "806\n",
      "808\n",
      "810\n",
      "812\n",
      "814\n",
      "816\n",
      "818\n",
      "820\n",
      "822\n",
      "824\n",
      "826\n",
      "828\n",
      "830\n",
      "832\n",
      "834\n",
      "836\n",
      "838\n",
      "840\n",
      "842\n",
      "844\n",
      "846\n",
      "848\n",
      "850\n",
      "852\n",
      "854\n",
      "856\n",
      "858\n",
      "860\n",
      "862\n",
      "864\n",
      "866\n",
      "868\n",
      "870\n",
      "872\n",
      "874\n",
      "876\n",
      "878\n",
      "880\n",
      "882\n",
      "884\n",
      "886\n",
      "888\n",
      "890\n",
      "892\n",
      "894\n",
      "896\n",
      "898\n",
      "900\n",
      "902\n",
      "904\n",
      "906\n",
      "908\n",
      "910\n",
      "912\n",
      "914\n",
      "916\n",
      "918\n",
      "920\n",
      "922\n",
      "924\n",
      "926\n",
      "928\n",
      "930\n",
      "932\n",
      "934\n",
      "936\n",
      "938\n",
      "940\n",
      "942\n",
      "944\n",
      "946\n",
      "948\n",
      "950\n",
      "952\n",
      "954\n",
      "956\n",
      "958\n",
      "960\n",
      "962\n",
      "964\n",
      "966\n",
      "968\n",
      "970\n",
      "972\n",
      "974\n",
      "976\n",
      "978\n",
      "980\n",
      "982\n",
      "984\n",
      "986\n",
      "988\n",
      "990\n",
      "992\n",
      "994\n",
      "996\n",
      "998\n",
      "1000\n"
     ]
    }
   ],
   "source": [
    "i = 1 \n",
    "while i <= 1000 :\n",
    "    if i % 2 ==0 :\n",
    "        print(i)\n",
    "    i = i+1"
   ]
  },
  {
   "cell_type": "code",
   "execution_count": null,
   "id": "abdc0078",
   "metadata": {},
   "outputs": [],
   "source": [
    "q7 : write a code to get a time of your system \n",
    "\n",
    "q8 : Write a code to fetch date form your system \n",
    "\n",
    "q9 : Write a code to send a mail to your friend \n",
    "\n",
    "q10 : write a code to trigger alarm for you at scheduled time \n",
    "\n",
    "q11 : write a code to check ip address of your system \n",
    "\n",
    "q12 : Write a code to check a perticular installation in your system\n",
    "\n",
    "q13 : Write a code to convert any text in to voice \n",
    "\n",
    "q14 : you have to write a fun which will take string and return a len of \n",
    "it without using a inbuilt fun len\n",
    "\n",
    "q15 :write a fun which will be able to print an index of all premitive element which you will pass \n",
    "\n",
    "q16 : Write a fun which will take input as a dict and give me out as a list of all the values \n",
    "even in case of 2 level nesting it should work . \n",
    "\n",
    "q17 : write a function whihc will take multiple list as a input and give me concatnation of all the element as \n",
    "and output\n",
    "\n",
    "q18 : Write a function which will whould return list of all the file name from a directory . \n",
    "\n",
    "q19 : write a function whihc will be able to read a image file and show it to you .\n",
    "    \n",
    "q20 : write a function by which you will be able to append two PDF files . \n",
    "    \n",
    "q21 : write a function which can help you to filter only word file from a directory . \n",
    "    \n",
    "q22 : write a function which can read video file and play for you . \n",
    "    \n",
    "q23 : write a function which will be able to shutdonw your system . \n",
    "\n",
    "q24 : Write a function which will whould return list of all the file name from a directory . \n",
    "\n",
    "q25 : write a function whihc will be able to access your mail ."
   ]
  },
  {
   "cell_type": "code",
   "execution_count": 153,
   "id": "f893b62d",
   "metadata": {},
   "outputs": [
    {
     "data": {
      "text/plain": [
       "datetime.time(17, 51, 45, 44615)"
      ]
     },
     "execution_count": 153,
     "metadata": {},
     "output_type": "execute_result"
    }
   ],
   "source": [
    "import datetime\n",
    "datetime.datetime.now().time()"
   ]
  },
  {
   "cell_type": "code",
   "execution_count": 154,
   "id": "7e767f3f",
   "metadata": {},
   "outputs": [
    {
     "data": {
      "text/plain": [
       "datetime.date(2022, 6, 4)"
      ]
     },
     "execution_count": 154,
     "metadata": {},
     "output_type": "execute_result"
    }
   ],
   "source": [
    "import datetime\n",
    "datetime.date.today()"
   ]
  },
  {
   "cell_type": "code",
   "execution_count": null,
   "id": "be4bbafb",
   "metadata": {},
   "outputs": [],
   "source": [
    "q9 : Write a code to send a mail to your friend "
   ]
  },
  {
   "cell_type": "code",
   "execution_count": null,
   "id": "ce39a734",
   "metadata": {},
   "outputs": [],
   "source": [
    "import smtplib\n",
    "server = smtplib.SMTP('smtp.gmail.com',587)\n",
    "\n",
    "server.starttls()\n",
    "\n",
    "server.login('***@gmail.com',\"****\")\n",
    "\n",
    "server.sendmail('**@gmail.com','**@gmail.com','TEST EMAIL from Python')\n",
    "\n",
    "print('Mail sent')"
   ]
  },
  {
   "cell_type": "code",
   "execution_count": null,
   "id": "c91142ac",
   "metadata": {},
   "outputs": [],
   "source": [
    "q10 : write a code to trigger alarm for you at scheduled time "
   ]
  },
  {
   "cell_type": "code",
   "execution_count": null,
   "id": "7008a4d5",
   "metadata": {},
   "outputs": [],
   "source": [
    "import time\n",
    "import playsound\n",
    "\n",
    "alarm_time = '10:22'\n",
    "if time.asctime()[11:-8] == alarm_time :\n",
    "    absolute_path = os.path.abspath(\"texttovoice.mp3\")\n",
    "    print(absolute_path)\n",
    "    playsound.playsound(absolute_path)\n"
   ]
  },
  {
   "cell_type": "code",
   "execution_count": 155,
   "id": "612011dd",
   "metadata": {},
   "outputs": [
    {
     "name": "stdout",
     "output_type": "stream",
     "text": [
      "your ip address is  172.27.80.1\n",
      "your computer name is  DESKTOP-B8CSP0O\n"
     ]
    }
   ],
   "source": [
    "import socket\n",
    "host= socket.gethostname()\n",
    "ip = socket.gethostbyname(host)\n",
    "print(\"your ip address is \", ip)\n",
    "print(\"your computer name is \", host)\n"
   ]
  },
  {
   "cell_type": "code",
   "execution_count": null,
   "id": "de96cfa3",
   "metadata": {},
   "outputs": [],
   "source": [
    "q12 : Write a code to check a perticular installation in your system"
   ]
  },
  {
   "cell_type": "code",
   "execution_count": 158,
   "id": "fc0d7c87",
   "metadata": {},
   "outputs": [
    {
     "data": {
      "text/plain": [
       "[InstalledApplication(name='ShurePlus MOTIV 1.3.0-277', version='1.3.0-277', install_date=None, install_location=None, install_source=None, modify_path=None, publisher='Shure Inc', uninstall_string='\"C:\\\\Program Files\\\\ShurePlus MOTIV\\\\Uninstall ShurePlus MOTIV.exe\" /allusers'),\n",
       " InstalledApplication(name='Anaconda3 2021.11 (Python 3.9.7 64-bit)', version='2021.11', install_date=None, install_location=None, install_source=None, modify_path=None, publisher='Anaconda, Inc.', uninstall_string='\"C:\\\\ProgramData\\\\Anaconda3\\\\Uninstall-Anaconda3.exe\"'),\n",
       " InstalledApplication(name='Docker Desktop', version='4.8.2', install_date=None, install_location=WindowsPath('C:/Program Files/Docker/Docker'), install_source=None, modify_path=None, publisher='Docker Inc.', uninstall_string='\"C:\\\\Program Files\\\\Docker\\\\Docker\\\\Docker Desktop Installer.exe\" \"uninstall\"'),\n",
       " InstalledApplication(name='Git', version='2.35.1.2', install_date=datetime.date(2022, 4, 9), install_location=WindowsPath('C:/Program Files/Git'), install_source=None, modify_path=None, publisher='The Git Development Community', uninstall_string='\"C:\\\\Program Files\\\\Git\\\\unins000.exe\"'),\n",
       " InstalledApplication(name='Notepad++ (64-bit x64)', version='8.2', install_date=None, install_location=None, install_source=None, modify_path=None, publisher='Notepad++ Team', uninstall_string='\"C:\\\\Program Files\\\\Notepad++\\\\uninstall.exe\"'),\n",
       " InstalledApplication(name='Microsoft Office Professional Plus 2019 - en-us', version='16.0.15225.20204', install_date=None, install_location=WindowsPath('C:/Program Files/Microsoft Office'), install_source=None, modify_path='\"C:\\\\Program Files\\\\Common Files\\\\Microsoft Shared\\\\ClickToRun\\\\OfficeClickToRun.exe\" scenario=repair platform=x64 culture=en-us', publisher='Microsoft Corporation', uninstall_string='\"C:\\\\Program Files\\\\Common Files\\\\Microsoft Shared\\\\ClickToRun\\\\OfficeClickToRun.exe\" scenario=install scenariosubtype=ARP sourcetype=None productstoremove=ProPlus2019Retail.16_en-us_x-none culture=en-us version.16=16.0'),\n",
       " InstalledApplication(name='VLC media player', version='3.0.10', install_date=None, install_location=WindowsPath('C:/Program Files/VideoLAN/VLC'), install_source=None, modify_path=None, publisher='VideoLAN', uninstall_string='\"C:\\\\Program Files\\\\VideoLAN\\\\VLC\\\\uninstall.exe\"'),\n",
       " InstalledApplication(name='WinRAR 6.10 (64-bit)', version='6.10.0', install_date=None, install_location=WindowsPath('C:/Program Files/WinRAR'), install_source=None, modify_path=None, publisher='win.rar GmbH', uninstall_string='C:\\\\Program Files\\\\WinRAR\\\\uninstall.exe'),\n",
       " InstalledApplication(name='Wondershare Anireel(Build 1.7.0)', version=None, install_date=datetime.date(2022, 3, 7), install_location=WindowsPath('C:/Program Files/Wondershare/Wondershare Anireel'), install_source=None, modify_path=None, publisher='Wondershare Software', uninstall_string='\"C:\\\\Program Files\\\\Wondershare\\\\Wondershare Anireel\\\\unins000.exe\"'),\n",
       " InstalledApplication(name='Wondershare Filmora 11(Build 11.0.8.2)', version=None, install_date=datetime.date(2022, 3, 1), install_location=WindowsPath('C:/Program Files (x86)/Wondershare/Wondershare Filmora'), install_source=None, modify_path=None, publisher='Wondershare Software', uninstall_string='\"C:\\\\Program Files (x86)\\\\Wondershare\\\\Wondershare Filmora\\\\unins000.exe\"'),\n",
       " InstalledApplication(name='Java 8 Update 321 (64-bit)', version='8.0.3210.7', install_date=datetime.date(2022, 1, 29), install_location=WindowsPath('C:/Program Files/Java/jre1.8.0_321'), install_source=WindowsPath('C:/Users/win10/AppData/LocalLow/Oracle/Java/jre1.8.0_321_x64'), modify_path='MsiExec.exe /X{26A24AE4-039D-4CA4-87B4-2F64180321F0}', publisher='Oracle Corporation', uninstall_string='MsiExec.exe /X{26A24AE4-039D-4CA4-87B4-2F64180321F0}'),\n",
       " InstalledApplication(name='Node.js', version='16.13.2', install_date=datetime.date(2022, 2, 2), install_location='', install_source=WindowsPath('C:/Users/win10/Downloads'), modify_path='MsiExec.exe /I{30A96552-4734-48ED-AB35-9F4D0EAB382B}', publisher='Node.js Foundation', uninstall_string='MsiExec.exe /I{30A96552-4734-48ED-AB35-9F4D0EAB382B}'),\n",
       " InstalledApplication(name='Windows Subsystem for Linux Update', version='5.10.16', install_date=datetime.date(2022, 5, 25), install_location='', install_source=WindowsPath('C:/Users/win10/Downloads'), modify_path='MsiExec.exe /X{36EF257E-21D5-44F7-8451-07923A8C465E}', publisher='Microsoft Corporation', uninstall_string='MsiExec.exe /X{36EF257E-21D5-44F7-8451-07923A8C465E}'),\n",
       " InstalledApplication(name='Oracle VM VirtualBox 6.1.32', version='6.1.32', install_date=datetime.date(2022, 1, 29), install_location='', install_source=WindowsPath('C:/Users/win10/AppData/Local/Temp/VirtualBox'), modify_path='MsiExec.exe /I{4A51F890-19E4-4E7C-A118-4B8ACEB5AEC5}', publisher='Oracle Corporation', uninstall_string='MsiExec.exe /I{4A51F890-19E4-4E7C-A118-4B8ACEB5AEC5}'),\n",
       " InstalledApplication(name='Microsoft Visual C++ 2008 Redistributable - x64 9.0.30729.4148', version='9.0.30729.4148', install_date=datetime.date(2022, 3, 1), install_location='', install_source=WindowsPath('d:/f3ef9acba92530823ab348fb'), modify_path='MsiExec.exe /X{4B6C7001-C7D6-3710-913E-5BC23FCE91E6}', publisher='Microsoft Corporation', uninstall_string='MsiExec.exe /X{4B6C7001-C7D6-3710-913E-5BC23FCE91E6}'),\n",
       " InstalledApplication(name='Java SE Development Kit 8 Update 321 (64-bit)', version='8.0.3210.7', install_date=datetime.date(2022, 1, 29), install_location=WindowsPath('C:/Program Files/Java/jdk1.8.0_321'), install_source=WindowsPath('C:/Users/win10/AppData/LocalLow/Oracle/Java/jdk1.8.0_321_x64'), modify_path='MsiExec.exe /X{64A3A4F4-B792-11D6-A78A-00B0D0180321}', publisher='Oracle Corporation', uninstall_string='MsiExec.exe /X{64A3A4F4-B792-11D6-A78A-00B0D0180321}'),\n",
       " InstalledApplication(name='Windows PC Health Check', version='3.6.2204.08001', install_date=datetime.date(2022, 4, 28), install_location='', install_source=WindowsPath('C:/Windows/SoftwareDistribution/Download/8c65a163c8c24c7e95c0237bfc859210/img'), modify_path='MsiExec.exe /X{6798C408-2636-448C-8AC6-F4E341102D27}', publisher='Microsoft Corporation', uninstall_string='MsiExec.exe /X{6798C408-2636-448C-8AC6-F4E341102D27}'),\n",
       " InstalledApplication(name='Microsoft Update Health Tools', version='3.67.0.0', install_date=datetime.date(2022, 4, 7), install_location='', install_source=WindowsPath('C:/Windows/TEMP/22FAA92E-78FE-4985-A49F-4256879FC184'), modify_path='MsiExec.exe /X{7B1FCD52-8F6B-4F12-A143-361EA39F5E7C}', publisher='Microsoft Corporation', uninstall_string='MsiExec.exe /X{7B1FCD52-8F6B-4F12-A143-361EA39F5E7C}'),\n",
       " InstalledApplication(name='Go Programming Language amd64 go1.17.6', version='1.17.6', install_date=datetime.date(2022, 1, 11), install_location='', install_source=WindowsPath('C:/Users/win10/Downloads'), modify_path='MsiExec.exe /X{AEFD548D-F1F4-4B33-A344-74D5DA2C4D5A}', publisher='https://golang.org', uninstall_string='MsiExec.exe /X{AEFD548D-F1F4-4B33-A344-74D5DA2C4D5A}'),\n",
       " InstalledApplication(name='NVIDIA Graphics Driver 496.13', version='496.13', install_date=datetime.date(2022, 1, 5), install_location=WindowsPath('C:/Program Files/NVIDIA Corporation/Installer2/Display.Driver.{A4A1ADDE-5A3B-45B2-A5F7-B181D4FF3107}'), install_source=WindowsPath('C:/Program Files/NVIDIA Corporation/Installer2/Display.Driver.{A4A1ADDE-5A3B-45B2-A5F7-B181D4FF3107}'), modify_path='', publisher='NVIDIA Corporation', uninstall_string='\"C:\\\\Windows\\\\SysWOW64\\\\RunDll32.EXE\" \"C:\\\\Program Files\\\\NVIDIA Corporation\\\\Installer2\\\\InstallerCore\\\\NVI2.DLL\",UninstallPackage Display.Driver'),\n",
       " InstalledApplication(name='NVIDIA GeForce Experience 3.23.0.74', version='3.23.0.74', install_date=datetime.date(2022, 1, 5), install_location=WindowsPath('C:/Program Files/NVIDIA Corporation/Installer2/Display.GFExperience.{011D517E-EA72-4827-A5B6-D56968152A19}'), install_source=WindowsPath('C:/Program Files/NVIDIA Corporation/Installer2/Display.GFExperience.{011D517E-EA72-4827-A5B6-D56968152A19}'), modify_path='', publisher='NVIDIA Corporation', uninstall_string='\"C:\\\\Windows\\\\SysWOW64\\\\RunDll32.EXE\" \"C:\\\\Program Files\\\\NVIDIA Corporation\\\\Installer2\\\\InstallerCore\\\\NVI2.DLL\",UninstallPackage Display.GFExperience'),\n",
       " InstalledApplication(name='NVIDIA PhysX System Software 9.21.0713', version='9.21.0713', install_date=datetime.date(2022, 1, 5), install_location=WindowsPath('C:/Program Files (x86)/NVIDIA Corporation/PhysX'), install_source=WindowsPath('C:/Program Files/NVIDIA Corporation/Installer2/Display.PhysX.{6330A8ED-7EBC-4297-9C26-2B246B86400D}'), modify_path='', publisher='NVIDIA Corporation', uninstall_string='\"C:\\\\Windows\\\\SysWOW64\\\\RunDll32.EXE\" \"C:\\\\Program Files\\\\NVIDIA Corporation\\\\Installer2\\\\InstallerCore\\\\NVI2.DLL\",UninstallPackage Display.PhysX'),\n",
       " InstalledApplication(name='NVIDIA FrameView SDK 1.1.4923.29968894', version='1.1.4923.29968894', install_date=datetime.date(2022, 1, 5), install_location=WindowsPath('C:/Program Files/NVIDIA Corporation/FrameViewSDK'), install_source=WindowsPath('C:/Program Files/NVIDIA Corporation/Installer2/FrameViewSdk.{820AE8E6-2C7C-45AE-9C47-FE649DD6F0F4}'), modify_path='', publisher='NVIDIA Corporation', uninstall_string='\"C:\\\\Windows\\\\SysWOW64\\\\RunDll32.EXE\" \"C:\\\\Program Files\\\\NVIDIA Corporation\\\\Installer2\\\\InstallerCore\\\\NVI2.DLL\",UninstallPackage FrameViewSdk'),\n",
       " InstalledApplication(name='NVIDIA HD Audio Driver 1.3.38.92', version='1.3.38.92', install_date=datetime.date(2022, 1, 5), install_location=WindowsPath('C:/Program Files/NVIDIA Corporation/Installer2/HDAudio.Driver.{D945A641-A18D-4723-9069-E07290DFEAA1}'), install_source=WindowsPath('C:/Program Files/NVIDIA Corporation/Installer2/HDAudio.Driver.{D945A641-A18D-4723-9069-E07290DFEAA1}'), modify_path='', publisher='NVIDIA Corporation', uninstall_string='\"C:\\\\Windows\\\\SysWOW64\\\\RunDll32.EXE\" \"C:\\\\Program Files\\\\NVIDIA Corporation\\\\Installer2\\\\InstallerCore\\\\NVI2.DLL\",UninstallPackage HDAudio.Driver'),\n",
       " InstalledApplication(name='NVIDIA Broadcast 1.3.0.45', version='1.3.0.45', install_date=datetime.date(2022, 1, 7), install_location=WindowsPath('C:/Program Files/NVIDIA Corporation/Installer2/NVIDIABroadcast.{84DC0617-5EB0-4CB0-887F-F80114F70D43}'), install_source=WindowsPath('C:/Program Files/NVIDIA Corporation/Installer2/NVIDIABroadcast.{84DC0617-5EB0-4CB0-887F-F80114F70D43}'), modify_path='', publisher='NVIDIA Corporation', uninstall_string='\"C:\\\\Windows\\\\SysWOW64\\\\RunDll32.EXE\" \"C:\\\\Program Files\\\\NVIDIA Corporation\\\\Installer2\\\\InstallerCore\\\\NVI2.DLL\",UninstallPackage NVIDIABroadcast'),\n",
       " InstalledApplication(name='Brave', version='102.1.39.111', install_date=datetime.date(2022, 5, 24), install_location=WindowsPath('C:/Program Files/BraveSoftware/Brave-Browser/Application'), install_source=None, modify_path=None, publisher='Brave Software Inc', uninstall_string='\"C:\\\\Program Files\\\\BraveSoftware\\\\Brave-Browser\\\\Application\\\\102.1.39.111\\\\Installer\\\\setup.exe\" --uninstall --system-level'),\n",
       " InstalledApplication(name='DroidCam Client', version='6.5.2', install_date=None, install_location=None, install_source=None, modify_path=None, publisher='DEV47APPS', uninstall_string='\"C:\\\\Program Files (x86)\\\\DroidCam\\\\uninstall.exe\"'),\n",
       " InstalledApplication(name='Epic Pen', version='v3.9.117.0', install_date=datetime.date(2022, 1, 19), install_location=WindowsPath('C:/Program Files (x86)/Epic Pen'), install_source=None, modify_path=None, publisher='TANK Studios LTD', uninstall_string='\"C:\\\\Program Files (x86)\\\\Epic Pen\\\\unins000.exe\"'),\n",
       " InstalledApplication(name='FileZilla Client 3.59.0', version='3.59.0', install_date=None, install_location=WindowsPath('C:/Program Files/FileZilla FTP Client'), install_source=None, modify_path=None, publisher='Tim Kosse', uninstall_string='\"C:\\\\Program Files\\\\FileZilla FTP Client\\\\uninstall.exe\"'),\n",
       " InstalledApplication(name='Google Chrome', version='102.0.5005.63', install_date=datetime.date(2022, 6, 1), install_location=WindowsPath('C:/Program Files (x86)/Google/Chrome/Application'), install_source=None, modify_path=None, publisher='Google LLC', uninstall_string='\"C:\\\\Program Files (x86)\\\\Google\\\\Chrome\\\\Application\\\\102.0.5005.63\\\\Installer\\\\setup.exe\" --uninstall --channel=stable --system-level --verbose-logging'),\n",
       " InstalledApplication(name='heroku', version=None, install_date=None, install_location=None, install_source=None, modify_path=None, publisher='Heroku', uninstall_string='\"C:\\\\Program Files\\\\heroku\\\\uninstall.exe\"'),\n",
       " InstalledApplication(name='KVMS Pro 2.01.0', version='2.01.0', install_date=None, install_location=None, install_source=None, modify_path=None, publisher='CP PLUS', uninstall_string='C:\\\\Program Files (x86)\\\\CP Plus\\\\KVMS Pro\\\\uninst.exe'),\n",
       " InstalledApplication(name='Microsoft Edge', version='102.0.1245.30', install_date=datetime.date(2022, 6, 2), install_location=WindowsPath('C:/Program Files (x86)/Microsoft/Edge/Application'), install_source=None, modify_path='\"C:\\\\Program Files (x86)\\\\Microsoft\\\\EdgeUpdate\\\\MicrosoftEdgeUpdate.exe\" /install appguid={56EB18F8-B008-4CBD-B6D2-8C97FE7E9062}&appname=Microsoft%20Edge&needsadmin=true&repairtype=windowsonlinerepair /installsource windows', publisher='Microsoft Corporation', uninstall_string='\"C:\\\\Program Files (x86)\\\\Microsoft\\\\Edge\\\\Application\\\\102.0.1245.30\\\\Installer\\\\setup.exe\" --uninstall --msedge --channel=stable --system-level --verbose-logging'),\n",
       " InstalledApplication(name='Microsoft Edge Update', version='1.3.161.35', install_date=None, install_location=None, install_source=None, modify_path=None, publisher=None, uninstall_string=None),\n",
       " InstalledApplication(name='Microsoft Edge WebView2 Runtime', version='101.0.1210.53', install_date=datetime.date(2022, 5, 22), install_location=WindowsPath('C:/Program Files (x86)/Microsoft/EdgeWebView/Application'), install_source=None, modify_path='\"C:\\\\Program Files (x86)\\\\Microsoft\\\\EdgeUpdate\\\\MicrosoftEdgeUpdate.exe\" /install appguid={F3017226-FE2A-4295-8BDF-00C3A9A7E4C5}&appname=Microsoft%20Edge%20WebView&needsadmin=true&repairtype=windowsonlinerepair /installsource otherinstallcmd', publisher='Microsoft Corporation', uninstall_string='\"C:\\\\Program Files (x86)\\\\Microsoft\\\\EdgeWebView\\\\Application\\\\101.0.1210.53\\\\Installer\\\\setup.exe\" --uninstall --msedgewebview --system-level --verbose-logging'),\n",
       " InstalledApplication(name='OBS Studio', version='27.1.3', install_date=None, install_location=None, install_source=None, modify_path=None, publisher='OBS Project', uninstall_string='C:\\\\Program Files\\\\obs-studio\\\\uninstall.exe'),\n",
       " InstalledApplication(name='PyCharm Community Edition 2021.3.2', version='213.6777.50', install_date=None, install_location=WindowsPath('C:/Program Files/JetBrains/PyCharm Community Edition 2021.3.2'), install_source=None, modify_path=None, publisher='JetBrains s.r.o.', uninstall_string='C:\\\\Program Files\\\\JetBrains\\\\PyCharm Community Edition 2021.3.2\\\\bin\\\\Uninstall.exe'),\n",
       " InstalledApplication(name='Wondershare Helper Compact 2.6.0', version='2.6.0', install_date=datetime.date(2022, 3, 1), install_location=WindowsPath('C:/Program Files (x86)/Common Files/Wondershare/Wondershare Helper Compact'), install_source=None, modify_path=None, publisher='Wondershare', uninstall_string='\"C:\\\\Program Files (x86)\\\\Common Files\\\\Wondershare\\\\Wondershare Helper Compact\\\\unins000.exe\"'),\n",
       " InstalledApplication(name='Microsoft Visual C++ 2015-2019 Redistributable (x86) - 14.22.27821', version='14.22.27821.0', install_date=None, install_location=None, install_source=None, modify_path='\"C:\\\\ProgramData\\\\Package Cache\\\\{5bfc1380-fd35-4b85-9715-7351535d077e}\\\\VC_redist.x86.exe\" /modify', publisher='Microsoft Corporation', uninstall_string='\"C:\\\\ProgramData\\\\Package Cache\\\\{5bfc1380-fd35-4b85-9715-7351535d077e}\\\\VC_redist.x86.exe\"  /uninstall'),\n",
       " InstalledApplication(name='Microsoft Visual C++ 2015-2019 Redistributable (x64) - 14.22.27821', version='14.22.27821.0', install_date=None, install_location=None, install_source=None, modify_path='\"C:\\\\ProgramData\\\\Package Cache\\\\{6361b579-2795-4886-b2a8-53d5239b6452}\\\\VC_redist.x64.exe\" /modify', publisher='Microsoft Corporation', uninstall_string='\"C:\\\\ProgramData\\\\Package Cache\\\\{6361b579-2795-4886-b2a8-53d5239b6452}\\\\VC_redist.x64.exe\"  /uninstall'),\n",
       " InstalledApplication(name='Microsoft PowerBI Desktop (x64)', version='2.102.845.0', install_date=None, install_location=None, install_source=None, modify_path=None, publisher='Microsoft Corporation', uninstall_string='\"C:\\\\ProgramData\\\\Package Cache\\\\{986da13b-b672-4d53-802d-47da357c07a7}\\\\PBIDesktopSetup_x64.exe\"  /uninstall'),\n",
       " InstalledApplication(name='Python Launcher', version='3.9.7546.0', install_date=datetime.date(2022, 5, 1), install_location='', install_source=WindowsPath('C:/ProgramData/Package Cache/{99719382-D7A9-4DC2-BF0C-C23B730A313D}v3.9.7546.0'), modify_path='MsiExec.exe /X{99719382-D7A9-4DC2-BF0C-C23B730A313D}', publisher='Python Software Foundation', uninstall_string='MsiExec.exe /X{99719382-D7A9-4DC2-BF0C-C23B730A313D}'),\n",
       " InstalledApplication(name='Adobe Reader XI (11.0.23)', version='11.0.23', install_date=datetime.date(2022, 1, 9), install_location=WindowsPath('C:/Program Files (x86)/Adobe/Reader 11.0/Reader'), install_source=WindowsPath('C:/ProgramData/Adobe/Setup/{AC76BA86-7AD7-1033-7B44-AB0000000001}'), modify_path='MsiExec.exe /I{AC76BA86-7AD7-1033-7B44-AB0000000001}', publisher='Adobe Systems Incorporated', uninstall_string='MsiExec.exe /I{AC76BA86-7AD7-1033-7B44-AB0000000001}')]"
      ]
     },
     "execution_count": 158,
     "metadata": {},
     "output_type": "execute_result"
    }
   ],
   "source": [
    "import winapps\n",
    "\n",
    "list(winapps.list_installed())\n"
   ]
  },
  {
   "cell_type": "code",
   "execution_count": 157,
   "id": "6f7faa88",
   "metadata": {},
   "outputs": [
    {
     "name": "stdout",
     "output_type": "stream",
     "text": [
      "Collecting winapps\n",
      "  Downloading winapps-0.2.0-py3-none-any.whl (9.1 kB)\n",
      "Collecting plumbum<2.0,>=1.6\n",
      "  Downloading plumbum-1.7.2-py2.py3-none-any.whl (117 kB)\n",
      "Requirement already satisfied: pywin32 in c:\\users\\win10\\anaconda3\\lib\\site-packages (from plumbum<2.0,>=1.6->winapps) (228)\n",
      "Installing collected packages: plumbum, winapps\n",
      "Successfully installed plumbum-1.7.2 winapps-0.2.0\n"
     ]
    }
   ],
   "source": [
    "!pip install winapps"
   ]
  },
  {
   "cell_type": "code",
   "execution_count": null,
   "id": "3b410377",
   "metadata": {},
   "outputs": [],
   "source": [
    "q13 : Write a code to convert any text in to voice "
   ]
  },
  {
   "cell_type": "code",
   "execution_count": null,
   "id": "28832395",
   "metadata": {},
   "outputs": [],
   "source": [
    "import gtts\n",
    "from playsound import playsound\n",
    "def txt_to_voice(str1):\n",
    "    tts=gtts.gTTS(str1)\n",
    "    tts.save(\"Hello.mp3\")\n",
    "    playsound(\"Hello.mp3\")\n",
    "            \n",
    "Text=input(\"Enter the text to convert to voice: \")\n",
    "txt_to_voice(Text)\n"
   ]
  },
  {
   "cell_type": "code",
   "execution_count": null,
   "id": "d827c0af",
   "metadata": {},
   "outputs": [],
   "source": [
    "q14 : you have to write a fun which will take string and return a len of \n",
    "it without using a inbuilt fun len"
   ]
  },
  {
   "cell_type": "code",
   "execution_count": 163,
   "id": "8415df2b",
   "metadata": {},
   "outputs": [
    {
     "data": {
      "text/plain": [
       "4"
      ]
     },
     "execution_count": 163,
     "metadata": {},
     "output_type": "execute_result"
    }
   ],
   "source": [
    "s = \"sudh\"\n",
    "len(s)"
   ]
  },
  {
   "cell_type": "code",
   "execution_count": 160,
   "id": "f1710143",
   "metadata": {},
   "outputs": [],
   "source": [
    "def str_len(s) : \n",
    "    count = 0 \n",
    "    for i in s :\n",
    "        count = count+1 \n",
    "    return count"
   ]
  },
  {
   "cell_type": "code",
   "execution_count": 161,
   "id": "e3c6052f",
   "metadata": {},
   "outputs": [
    {
     "data": {
      "text/plain": [
       "4"
      ]
     },
     "execution_count": 161,
     "metadata": {},
     "output_type": "execute_result"
    }
   ],
   "source": [
    "str_len(\"sdfs\")"
   ]
  },
  {
   "cell_type": "code",
   "execution_count": null,
   "id": "4fc455de",
   "metadata": {},
   "outputs": [],
   "source": [
    "q15 :write a fun which will be able to print an index of all premitive element which you will pass \n",
    "\n",
    "q16 : Write a fun which will take input as a dict and give me out as a list of all the values \n",
    "even in case of 2 level nesting it should work . \n",
    "\n",
    "q17 : write a function whihc will take multiple list as a input and give me concatnation of all the element as \n",
    "and output\n",
    "\n",
    "q18 : Write a function which will whould return list of all the file name from a directory . \n",
    "\n",
    "q19 : write a function whihc will be able to read a image file and show it to you .\n",
    "    \n",
    "q20 : write a function by which you will be able to append two PDF files . \n",
    "    \n",
    "q21 : write a function which can help you to filter only word file from a directory . \n",
    "    \n",
    "q22 : write a function which can read video file and play for you . \n",
    "    \n",
    "q23 : write a function which will be able to shutdonw your system . \n",
    "\n",
    "q24 : Write a function which will whould return list of all the file name from a directory . \n",
    "\n",
    "q25 : write a function whihc will be able to access your mail ."
   ]
  },
  {
   "cell_type": "code",
   "execution_count": 164,
   "id": "8dc203b3",
   "metadata": {},
   "outputs": [],
   "source": [
    "def print_prim(l) : \n",
    "    for i in range(len(l)):\n",
    "        print(i)"
   ]
  },
  {
   "cell_type": "code",
   "execution_count": 165,
   "id": "ca6fc73d",
   "metadata": {},
   "outputs": [
    {
     "name": "stdout",
     "output_type": "stream",
     "text": [
      "0\n",
      "1\n",
      "2\n",
      "3\n",
      "4\n",
      "5\n",
      "6\n"
     ]
    }
   ],
   "source": [
    "print_prim([4,5,6,7,7, \"sdfs\" , [3,4,5,6]])"
   ]
  },
  {
   "cell_type": "code",
   "execution_count": 166,
   "id": "4ff2cb02",
   "metadata": {},
   "outputs": [],
   "source": [
    "d = {'k1' :\"value\" , \"k2\" : \"values \" ,\"k3\" : { \"k12\" : \"sudh\" , \"k13\"  : \"gafasd\"}}"
   ]
  },
  {
   "cell_type": "code",
   "execution_count": 168,
   "id": "f049a385",
   "metadata": {},
   "outputs": [],
   "source": [
    "def dic_to_list(d) : \n",
    "    l= []\n",
    "    for i in d.values() : \n",
    "        if type(i) != dict :\n",
    "            l.append(i)\n",
    "        if type(i) == dict :\n",
    "            for j in i.values():\n",
    "                l.append(j)\n",
    "    return l "
   ]
  },
  {
   "cell_type": "code",
   "execution_count": 169,
   "id": "9e5864e3",
   "metadata": {},
   "outputs": [
    {
     "data": {
      "text/plain": [
       "['value', 'values ', 'sudh', 'gafasd']"
      ]
     },
     "execution_count": 169,
     "metadata": {},
     "output_type": "execute_result"
    }
   ],
   "source": [
    "dic_to_list(d)"
   ]
  },
  {
   "cell_type": "code",
   "execution_count": null,
   "id": "b675a475",
   "metadata": {},
   "outputs": [],
   "source": [
    "q19 : write a function whihc will be able to read a image file and show it to you .\n",
    "    \n"
   ]
  },
  {
   "cell_type": "code",
   "execution_count": 171,
   "id": "da4fa07e",
   "metadata": {},
   "outputs": [
    {
     "name": "stdout",
     "output_type": "stream",
     "text": [
      "Collecting opencv-python\n",
      "  Downloading opencv_python-4.5.5.64-cp36-abi3-win_amd64.whl (35.4 MB)\n",
      "Requirement already satisfied: numpy>=1.14.5 in c:\\users\\win10\\anaconda3\\lib\\site-packages (from opencv-python) (1.20.3)\n",
      "Installing collected packages: opencv-python\n",
      "Successfully installed opencv-python-4.5.5.64\n"
     ]
    }
   ],
   "source": [
    "!pip install opencv-python"
   ]
  },
  {
   "cell_type": "code",
   "execution_count": 3,
   "id": "f16f854d",
   "metadata": {},
   "outputs": [],
   "source": [
    "import cv2\n",
    "def read_img() : \n",
    "    a = cv2.imread('D:/abc.png')\n",
    "    cv2.imshow(\"myimg\",a)\n",
    "    cv2.waitKey(5000)\n",
    "    cv2.destroyWindow('myimg')\n",
    "    \n",
    "    "
   ]
  },
  {
   "cell_type": "code",
   "execution_count": 4,
   "id": "56e9e659",
   "metadata": {},
   "outputs": [],
   "source": [
    "read_img()"
   ]
  },
  {
   "cell_type": "code",
   "execution_count": 19,
   "id": "1aa1ce85",
   "metadata": {},
   "outputs": [
    {
     "name": "stdout",
     "output_type": "stream",
     "text": [
      "<class 'list'> 24\n",
      "<class 'tuple'> 720\n",
      "<class 'tuple'> 2520\n",
      "<class 'set'> 20700\n",
      "<class 'dict'> 1008\n",
      "<class 'list'> 1\n"
     ]
    }
   ],
   "source": [
    "l = [[1,2,3,4], (2,3,4,5,6), (3,4,5,6,7), set([23,4,5,45,4,4,5,45,45,4,5]),{'k1':\"sudh\", 'k2': \"ineuron\", 'k3': \"kumar\", 3:6, 7:8}, [\"ineuron\", \"data science\"]]\n",
    "\n",
    "for i in l:\n",
    "    m =1\n",
    "    if type(i) == list or type(i) == tuple or type(i) == set:\n",
    "        for j in i:\n",
    "            if type(j) == int:\n",
    "                m = m*j\n",
    "        print(type(i), m)\n",
    "    if type(i) == dict:\n",
    "        for k in i.items():\n",
    "            for n in k :\n",
    "                if type(n) == int :\n",
    "                    m = m * n \n",
    "        print(type(i) , m)\n"
   ]
  },
  {
   "cell_type": "code",
   "execution_count": 22,
   "id": "56d89c70",
   "metadata": {},
   "outputs": [
    {
     "name": "stdout",
     "output_type": "stream",
     "text": [
      "G  \n",
      "H  M  \n",
      "I  N  R  \n",
      "J  O  S  V  \n",
      "K  P  T  W  Y  \n",
      "L  Q  U  X  Z  [  \n",
      "M  R  V  Y  [  \n"
     ]
    }
   ],
   "source": [
    "i=0\n",
    "while i<7:\n",
    "    c=65+i\n",
    "    j=0\n",
    "    while j<i+1:\n",
    "        if c==91:\n",
    "            break\n",
    "        c=c+6-j\n",
    "        j+=1\n",
    "        print(chr(c),end=\"  \")\n",
    "    \n",
    "    i+=1\n",
    "    print()\n"
   ]
  },
  {
   "cell_type": "code",
   "execution_count": 5,
   "id": "a0253707",
   "metadata": {},
   "outputs": [],
   "source": [
    "def test9(): \n",
    "    a = 1\n",
    "    l5=list(range(1,1000)) \n",
    "    while a< len(l5):\n",
    "        if a%2 == 0:\n",
    "            print(a)\n",
    "        a=a+1 \n"
   ]
  },
  {
   "cell_type": "code",
   "execution_count": 6,
   "id": "a9981eb6",
   "metadata": {},
   "outputs": [
    {
     "name": "stdout",
     "output_type": "stream",
     "text": [
      "2\n",
      "4\n",
      "6\n",
      "8\n",
      "10\n",
      "12\n",
      "14\n",
      "16\n",
      "18\n",
      "20\n",
      "22\n",
      "24\n",
      "26\n",
      "28\n",
      "30\n",
      "32\n",
      "34\n",
      "36\n",
      "38\n",
      "40\n",
      "42\n",
      "44\n",
      "46\n",
      "48\n",
      "50\n",
      "52\n",
      "54\n",
      "56\n",
      "58\n",
      "60\n",
      "62\n",
      "64\n",
      "66\n",
      "68\n",
      "70\n",
      "72\n",
      "74\n",
      "76\n",
      "78\n",
      "80\n",
      "82\n",
      "84\n",
      "86\n",
      "88\n",
      "90\n",
      "92\n",
      "94\n",
      "96\n",
      "98\n",
      "100\n",
      "102\n",
      "104\n",
      "106\n",
      "108\n",
      "110\n",
      "112\n",
      "114\n",
      "116\n",
      "118\n",
      "120\n",
      "122\n",
      "124\n",
      "126\n",
      "128\n",
      "130\n",
      "132\n",
      "134\n",
      "136\n",
      "138\n",
      "140\n",
      "142\n",
      "144\n",
      "146\n",
      "148\n",
      "150\n",
      "152\n",
      "154\n",
      "156\n",
      "158\n",
      "160\n",
      "162\n",
      "164\n",
      "166\n",
      "168\n",
      "170\n",
      "172\n",
      "174\n",
      "176\n",
      "178\n",
      "180\n",
      "182\n",
      "184\n",
      "186\n",
      "188\n",
      "190\n",
      "192\n",
      "194\n",
      "196\n",
      "198\n",
      "200\n",
      "202\n",
      "204\n",
      "206\n",
      "208\n",
      "210\n",
      "212\n",
      "214\n",
      "216\n",
      "218\n",
      "220\n",
      "222\n",
      "224\n",
      "226\n",
      "228\n",
      "230\n",
      "232\n",
      "234\n",
      "236\n",
      "238\n",
      "240\n",
      "242\n",
      "244\n",
      "246\n",
      "248\n",
      "250\n",
      "252\n",
      "254\n",
      "256\n",
      "258\n",
      "260\n",
      "262\n",
      "264\n",
      "266\n",
      "268\n",
      "270\n",
      "272\n",
      "274\n",
      "276\n",
      "278\n",
      "280\n",
      "282\n",
      "284\n",
      "286\n",
      "288\n",
      "290\n",
      "292\n",
      "294\n",
      "296\n",
      "298\n",
      "300\n",
      "302\n",
      "304\n",
      "306\n",
      "308\n",
      "310\n",
      "312\n",
      "314\n",
      "316\n",
      "318\n",
      "320\n",
      "322\n",
      "324\n",
      "326\n",
      "328\n",
      "330\n",
      "332\n",
      "334\n",
      "336\n",
      "338\n",
      "340\n",
      "342\n",
      "344\n",
      "346\n",
      "348\n",
      "350\n",
      "352\n",
      "354\n",
      "356\n",
      "358\n",
      "360\n",
      "362\n",
      "364\n",
      "366\n",
      "368\n",
      "370\n",
      "372\n",
      "374\n",
      "376\n",
      "378\n",
      "380\n",
      "382\n",
      "384\n",
      "386\n",
      "388\n",
      "390\n",
      "392\n",
      "394\n",
      "396\n",
      "398\n",
      "400\n",
      "402\n",
      "404\n",
      "406\n",
      "408\n",
      "410\n",
      "412\n",
      "414\n",
      "416\n",
      "418\n",
      "420\n",
      "422\n",
      "424\n",
      "426\n",
      "428\n",
      "430\n",
      "432\n",
      "434\n",
      "436\n",
      "438\n",
      "440\n",
      "442\n",
      "444\n",
      "446\n",
      "448\n",
      "450\n",
      "452\n",
      "454\n",
      "456\n",
      "458\n",
      "460\n",
      "462\n",
      "464\n",
      "466\n",
      "468\n",
      "470\n",
      "472\n",
      "474\n",
      "476\n",
      "478\n",
      "480\n",
      "482\n",
      "484\n",
      "486\n",
      "488\n",
      "490\n",
      "492\n",
      "494\n",
      "496\n",
      "498\n",
      "500\n",
      "502\n",
      "504\n",
      "506\n",
      "508\n",
      "510\n",
      "512\n",
      "514\n",
      "516\n",
      "518\n",
      "520\n",
      "522\n",
      "524\n",
      "526\n",
      "528\n",
      "530\n",
      "532\n",
      "534\n",
      "536\n",
      "538\n",
      "540\n",
      "542\n",
      "544\n",
      "546\n",
      "548\n",
      "550\n",
      "552\n",
      "554\n",
      "556\n",
      "558\n",
      "560\n",
      "562\n",
      "564\n",
      "566\n",
      "568\n",
      "570\n",
      "572\n",
      "574\n",
      "576\n",
      "578\n",
      "580\n",
      "582\n",
      "584\n",
      "586\n",
      "588\n",
      "590\n",
      "592\n",
      "594\n",
      "596\n",
      "598\n",
      "600\n",
      "602\n",
      "604\n",
      "606\n",
      "608\n",
      "610\n",
      "612\n",
      "614\n",
      "616\n",
      "618\n",
      "620\n",
      "622\n",
      "624\n",
      "626\n",
      "628\n",
      "630\n",
      "632\n",
      "634\n",
      "636\n",
      "638\n",
      "640\n",
      "642\n",
      "644\n",
      "646\n",
      "648\n",
      "650\n",
      "652\n",
      "654\n",
      "656\n",
      "658\n",
      "660\n",
      "662\n",
      "664\n",
      "666\n",
      "668\n",
      "670\n",
      "672\n",
      "674\n",
      "676\n",
      "678\n",
      "680\n",
      "682\n",
      "684\n",
      "686\n",
      "688\n",
      "690\n",
      "692\n",
      "694\n",
      "696\n",
      "698\n",
      "700\n",
      "702\n",
      "704\n",
      "706\n",
      "708\n",
      "710\n",
      "712\n",
      "714\n",
      "716\n",
      "718\n",
      "720\n",
      "722\n",
      "724\n",
      "726\n",
      "728\n",
      "730\n",
      "732\n",
      "734\n",
      "736\n",
      "738\n",
      "740\n",
      "742\n",
      "744\n",
      "746\n",
      "748\n",
      "750\n",
      "752\n",
      "754\n",
      "756\n",
      "758\n",
      "760\n",
      "762\n",
      "764\n",
      "766\n",
      "768\n",
      "770\n",
      "772\n",
      "774\n",
      "776\n",
      "778\n",
      "780\n",
      "782\n",
      "784\n",
      "786\n",
      "788\n",
      "790\n",
      "792\n",
      "794\n",
      "796\n",
      "798\n",
      "800\n",
      "802\n",
      "804\n",
      "806\n",
      "808\n",
      "810\n",
      "812\n",
      "814\n",
      "816\n",
      "818\n",
      "820\n",
      "822\n",
      "824\n",
      "826\n",
      "828\n",
      "830\n",
      "832\n",
      "834\n",
      "836\n",
      "838\n",
      "840\n",
      "842\n",
      "844\n",
      "846\n",
      "848\n",
      "850\n",
      "852\n",
      "854\n",
      "856\n",
      "858\n",
      "860\n",
      "862\n",
      "864\n",
      "866\n",
      "868\n",
      "870\n",
      "872\n",
      "874\n",
      "876\n",
      "878\n",
      "880\n",
      "882\n",
      "884\n",
      "886\n",
      "888\n",
      "890\n",
      "892\n",
      "894\n",
      "896\n",
      "898\n",
      "900\n",
      "902\n",
      "904\n",
      "906\n",
      "908\n",
      "910\n",
      "912\n",
      "914\n",
      "916\n",
      "918\n",
      "920\n",
      "922\n",
      "924\n",
      "926\n",
      "928\n",
      "930\n",
      "932\n",
      "934\n",
      "936\n",
      "938\n",
      "940\n",
      "942\n",
      "944\n",
      "946\n",
      "948\n",
      "950\n",
      "952\n",
      "954\n",
      "956\n",
      "958\n",
      "960\n",
      "962\n",
      "964\n",
      "966\n",
      "968\n",
      "970\n",
      "972\n",
      "974\n",
      "976\n",
      "978\n",
      "980\n",
      "982\n",
      "984\n",
      "986\n",
      "988\n",
      "990\n",
      "992\n",
      "994\n",
      "996\n",
      "998\n"
     ]
    }
   ],
   "source": [
    "test9()"
   ]
  },
  {
   "cell_type": "code",
   "execution_count": 8,
   "id": "be7c934d",
   "metadata": {},
   "outputs": [
    {
     "name": "stdout",
     "output_type": "stream",
     "text": [
      "radius456\n",
      "perimeter: 2865.132816\n"
     ]
    }
   ],
   "source": [
    "PI = 3.141593\n",
    "radius_p = float(input('radius'))\n",
    "perimeter = 2 * PI * radius_p\n",
    "peri=str(perimeter)\n",
    "print('perimeter:', peri)\n"
   ]
  },
  {
   "cell_type": "code",
   "execution_count": null,
   "id": "c94f13bc",
   "metadata": {},
   "outputs": [],
   "source": []
  }
 ],
 "metadata": {
  "interpreter": {
   "hash": "369f2c481f4da34e4445cda3fffd2e751bd1c4d706f27375911949ba6bb62e1c"
  },
  "kernelspec": {
   "display_name": "Python 3.10.0 64-bit",
   "language": "python",
   "name": "python3"
  },
  "language_info": {
   "codemirror_mode": {
    "name": "ipython",
    "version": 3
   },
   "file_extension": ".py",
   "mimetype": "text/x-python",
   "name": "python",
   "nbconvert_exporter": "python",
   "pygments_lexer": "ipython3",
   "version": "3.10.0"
  }
 },
 "nbformat": 4,
 "nbformat_minor": 5
}
