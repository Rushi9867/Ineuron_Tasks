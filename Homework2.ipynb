{
 "cells": [
  {
   "cell_type": "code",
   "execution_count": 1,
   "metadata": {},
   "outputs": [
    {
     "name": "stdout",
     "output_type": "stream",
     "text": [
      "iNeuron \n",
      "\n",
      "iNeuron iNeuron \n",
      "\n",
      "iNeuron iNeuron iNeuron \n",
      "\n",
      "iNeuron iNeuron iNeuron iNeuron \n",
      "\n"
     ]
    }
   ],
   "source": [
    "# Q1\n",
    "for i in range(4):\n",
    "    for j in range(0,i+1):\n",
    "        print(\"iNeuron\",end=\" \")\n",
    "    print(\"\\n\")"
   ]
  },
  {
   "cell_type": "code",
   "execution_count": 1,
   "metadata": {},
   "outputs": [
    {
     "name": "stdout",
     "output_type": "stream",
     "text": [
      "iNeuron \n",
      "iNeuron iNeuron \n",
      "iNeuron iNeuron iNeuron \n",
      "iNeuron iNeuron iNeuron iNeuron \n",
      "iNeuron iNeuron iNeuron iNeuron iNeuron \n"
     ]
    }
   ],
   "source": [
    "n = 5\n",
    "for i in range(n):\n",
    "    print(\"iNeuron \"*(i+1))"
   ]
  },
  {
   "cell_type": "code",
   "execution_count": 2,
   "metadata": {},
   "outputs": [
    {
     "name": "stdout",
     "output_type": "stream",
     "text": [
      "               iNeuron  \n",
      "          iNeuron  iNeuron  iNeuron  \n",
      "     iNeuron  iNeuron  iNeuron  iNeuron  iNeuron  \n",
      "          iNeuron  iNeuron  iNeuron  \n",
      "               iNeuron  \n"
     ]
    }
   ],
   "source": [
    "# Q2\n",
    "n = 3\n",
    "for i in range(n-1):\n",
    "    for j in range(i,n):\n",
    "        print(\"   \",end=\"  \")\n",
    "    for j in range(i):\n",
    "        print('iNeuron',end=\"  \")\n",
    "    for j in range(i+1):\n",
    "        print('iNeuron',end=\"  \")\n",
    "    print()\n",
    "for i in range(n):\n",
    "    for j in range(i+1):\n",
    "        print(\"   \",end=\"  \")\n",
    "    for j in range(i,n-1):\n",
    "        print('iNeuron',end=\"  \")\n",
    "    for j in range(i,n):\n",
    "        print('iNeuron',end=\"  \")\n",
    "    print()"
   ]
  },
  {
   "cell_type": "code",
   "execution_count": 30,
   "metadata": {},
   "outputs": [
    {
     "name": "stdout",
     "output_type": "stream",
     "text": [
      "                ineuron         \n",
      "        ineuron         ineuron         \n",
      "ineuron         ineuron         ineuron         \n",
      "        ineuron         ineuron \n",
      "\n",
      "               ineuron \n",
      "\n"
     ]
    }
   ],
   "source": [
    "import math\n",
    "\n",
    "n2=5\n",
    "str=\"ineuron\"\n",
    "middle=math.floor(n2/2) if n2%2==0 else math.ceil(n2/2)\n",
    "# first half\n",
    "for l in range(1,n2+1):\n",
    "    if l<=middle:\n",
    "        k=middle-l\n",
    "        for i in range(k):\n",
    "            print(\" \"*len(str),end=\" \")\n",
    "        print((str+\" \"+\" \"*len(str)+\" \")*l)\n",
    "    else: # last half in reverse order\n",
    "        r_spc=l-middle\n",
    "        r= n2-l+1 #(5+1-4,5+1-5)\n",
    "        for r2 in range(r):\n",
    "            print(\" \"*len(str)*r_spc,str,end= \" \")\n",
    "        print(\"\\n\")"
   ]
  },
  {
   "cell_type": "code",
   "execution_count": 2,
   "metadata": {},
   "outputs": [
    {
     "name": "stdout",
     "output_type": "stream",
     "text": [
      "                                                  \n",
      "                     iNeuron                      \n",
      "                 iNeuron iNeuron                  \n",
      "             iNeuron iNeuron iNeuron              \n",
      "                 iNeuron iNeuron                  \n",
      "                     iNeuron                      \n"
     ]
    }
   ],
   "source": [
    "for i in range(6):\n",
    "    if i <= 3:\n",
    "        n = i\n",
    "    else:\n",
    "        n = 6 - i\n",
    "    print((\"iNeuron \"*n).center(50,' '))"
   ]
  },
  {
   "cell_type": "code",
   "execution_count": 2,
   "metadata": {},
   "outputs": [
    {
     "data": {
      "text/plain": [
       "[[1, 2, 3, 4],\n",
       " (2, 3, 4, 5, 6),\n",
       " (3, 4, 5, 6, 7),\n",
       " {4, 5, 23, 45},\n",
       " {'k1': 'Rushi', 'k2': 'iNeuron', 'k3': 'Kumar', 3: 6, 7: 8},\n",
       " ['iNeuron', 'Data Science']]"
      ]
     },
     "execution_count": 2,
     "metadata": {},
     "output_type": "execute_result"
    }
   ],
   "source": [
    "l = [[1,2,3,4],(2,3,4,5,6),(3,4,5,6,7),set([23,4,5,45,4,4,5,45,45,4,5]),{'k1':\"Rushi\",'k2':\"iNeuron\",'k3':\"Kumar\",3:6,7:8},[\"iNeuron\",\"Data Science\"]]\n",
    "l "
   ]
  },
  {
   "cell_type": "code",
   "execution_count": 3,
   "metadata": {},
   "outputs": [
    {
     "data": {
      "text/plain": [
       "[[1, 2, 3, 4], ['iNeuron', 'Data Science']]"
      ]
     },
     "execution_count": 3,
     "metadata": {},
     "output_type": "execute_result"
    }
   ],
   "source": [
    "# Q3 Try to extract all the list entity\n",
    "l1 = []\n",
    "for i in l:\n",
    "    if type(i) == list:\n",
    "        l1.append(i)\n",
    "l1 "
   ]
  },
  {
   "cell_type": "code",
   "execution_count": 12,
   "metadata": {},
   "outputs": [
    {
     "data": {
      "text/plain": [
       "[dict_items([('k1', 'Rushi'), ('k2', 'iNeuron'), ('k3', 'Kumar'), (3, 6), (7, 8)])]"
      ]
     },
     "execution_count": 12,
     "metadata": {},
     "output_type": "execute_result"
    }
   ],
   "source": [
    "# Q4 Try to extract all the dict enteties\n",
    "l2 = []\n",
    "for i in l:\n",
    "    if type(i) == dict:\n",
    "        l2.append(i.items()) \n",
    "l2 "
   ]
  },
  {
   "cell_type": "code",
   "execution_count": 5,
   "metadata": {},
   "outputs": [
    {
     "name": "stdout",
     "output_type": "stream",
     "text": [
      "(2, 3, 4, 5, 6)\n",
      "(3, 4, 5, 6, 7)\n"
     ]
    }
   ],
   "source": [
    "# Q5 Try to extract all the tuples entities\n",
    "for i in l:\n",
    "    if type(i) == tuple:\n",
    "        print(i) "
   ]
  },
  {
   "cell_type": "code",
   "execution_count": 6,
   "metadata": {},
   "outputs": [
    {
     "data": {
      "text/plain": [
       "[1, 2, 3, 4, 2, 3, 4, 5, 6, 3, 4, 5, 6, 7, 45, 4, 5, 23, 3, 7, 3, 6, 7, 8]"
      ]
     },
     "execution_count": 6,
     "metadata": {},
     "output_type": "execute_result"
    }
   ],
   "source": [
    "# Q6 Try to extract all the numerical data it may be a part of dict key and values\n",
    "l3 = []\n",
    "for i in l:\n",
    "    for j in i:\n",
    "        if type(j) == int:\n",
    "            l3.append(j)\n",
    "    if type(i) == dict:\n",
    "        for j in i.items():\n",
    "            for k in j:\n",
    "                if type(k) == int:\n",
    "                    l3.append(k)\n",
    "l3"
   ]
  },
  {
   "cell_type": "code",
   "execution_count": 7,
   "metadata": {},
   "outputs": [
    {
     "data": {
      "text/plain": [
       "166"
      ]
     },
     "execution_count": 7,
     "metadata": {},
     "output_type": "execute_result"
    }
   ],
   "source": [
    "# Q7 Try to give summation of all the numeric data\n",
    "sum(l3)"
   ]
  },
  {
   "cell_type": "code",
   "execution_count": 10,
   "metadata": {},
   "outputs": [
    {
     "name": "stdout",
     "output_type": "stream",
     "text": [
      "1\n",
      "3\n",
      "3\n",
      "5\n",
      "3\n",
      "5\n",
      "7\n",
      "45\n",
      "5\n",
      "23\n",
      "3\n",
      "7\n",
      "3\n",
      "7\n"
     ]
    }
   ],
   "source": [
    "# Q8 Try to filter out all odd values out all numeric data which is a part of a list\n",
    "for j in l3:\n",
    "    if j % 2 == 1:\n",
    "        print(j)"
   ]
  },
  {
   "cell_type": "code",
   "execution_count": 19,
   "metadata": {},
   "outputs": [],
   "source": [
    "# Q9 Try to extract \"iNeuron\" out of this data"
   ]
  },
  {
   "cell_type": "code",
   "execution_count": 20,
   "metadata": {},
   "outputs": [
    {
     "data": {
      "text/plain": [
       "['iNeuron', 'iNeuron']"
      ]
     },
     "execution_count": 20,
     "metadata": {},
     "output_type": "execute_result"
    }
   ],
   "source": [
    "l4 = []\n",
    "for i in l:\n",
    "    for j in i:\n",
    "        if j == \"iNeuron\":\n",
    "            l4.append(j)\n",
    "    if type(i) == dict:\n",
    "        for j in i.items():\n",
    "            for k in j:\n",
    "                if k == \"iNeuron\":\n",
    "                    l4.append(k)\n",
    "l4"
   ]
  },
  {
   "cell_type": "code",
   "execution_count": 25,
   "metadata": {},
   "outputs": [
    {
     "name": "stdout",
     "output_type": "stream",
     "text": [
      "[1, 2, 3, 4]\n",
      "(2, 3, 4, 5, 6)\n",
      "(3, 4, 5, 6, 7)\n",
      "{45, 4, 5, 23}\n",
      "{'k1': 'Rushi', 'k2': 'iNeuron', 'k3': 'Kumar', 3: 6, 7: 8}\n",
      "['iNeuron', 'Data Science']\n"
     ]
    }
   ],
   "source": [
    "# Q10 Try to find out a number of ocuurances of all the data\n",
    "for i in l:\n",
    "    print(i)"
   ]
  },
  {
   "cell_type": "code",
   "execution_count": 28,
   "metadata": {},
   "outputs": [
    {
     "name": "stdout",
     "output_type": "stream",
     "text": [
      "1 : 1\n",
      "2 : 2\n",
      "3 : 4\n",
      "4 : 4\n",
      "5 : 3\n",
      "6 : 3\n",
      "7 : 2\n",
      "k2 : 1\n",
      "8 : 1\n",
      "Data Science : 1\n",
      "Rushi : 1\n",
      "45 : 1\n",
      "k3 : 1\n",
      "k1 : 1\n",
      "23 : 1\n",
      "iNeuron : 2\n",
      "Kumar : 1\n"
     ]
    }
   ],
   "source": [
    "l = [[1,2,3,4],(2,3,4,5,6),(3,4,5,6,7),set([23,4,5,45,4,4,5,45,45,4,5]),{'k1':\"Rushi\",'k2':\"iNeuron\",'k3':\"Kumar\",3:6,7:8},[\"iNeuron\",\"Data Science\"]]\n",
    "\n",
    "l4 = []\n",
    "for i in l:\n",
    "    if type(i) == list or type(i) == tuple or type(i) == set:\n",
    "        for j in i:\n",
    "            if type(j) == int or type(j) == str:\n",
    "                l4.append(j)\n",
    "    if type(i) == dict:\n",
    "        for j in i.items():\n",
    "            for k in j:\n",
    "                if type(k) == int or type(k) == str:\n",
    "                    l4.append(k)\n",
    "\n",
    "for i in set(l4):\n",
    "        print(i ,\":\",l4.count(i))"
   ]
  },
  {
   "cell_type": "code",
   "execution_count": 23,
   "metadata": {},
   "outputs": [
    {
     "name": "stdout",
     "output_type": "stream",
     "text": [
      "5\n"
     ]
    }
   ],
   "source": [
    "# Q11 Try to find out number of keys in dict element\n",
    "for i in l:\n",
    "    if type(i) == dict:\n",
    "        print(len(list(i.keys())))"
   ]
  },
  {
   "cell_type": "code",
   "execution_count": 29,
   "metadata": {},
   "outputs": [
    {
     "data": {
      "text/plain": [
       "['k1', 'Rushi', 'k2', 'iNeuron', 'k3', 'Kumar', 'iNeuron', 'Data Science']"
      ]
     },
     "execution_count": 29,
     "metadata": {},
     "output_type": "execute_result"
    }
   ],
   "source": [
    "# Q12 Try to filter out all the string data \n",
    "l5 = []\n",
    "for i in l4:\n",
    "    if type(i) == str:\n",
    "        l5.append(i)\n",
    "l5 "
   ]
  },
  {
   "cell_type": "code",
   "execution_count": 31,
   "metadata": {},
   "outputs": [
    {
     "name": "stdout",
     "output_type": "stream",
     "text": [
      "k1\n",
      "Rushi\n",
      "k2\n",
      "iNeuron\n",
      "k3\n",
      "Kumar\n",
      "iNeuron\n"
     ]
    }
   ],
   "source": [
    "# Q13 Try to findout alphanum in data\n",
    "for j in l4:\n",
    "    if type(j) == str:\n",
    "        if j.isalnum():\n",
    "            print(j)\n",
    "        "
   ]
  },
  {
   "cell_type": "code",
   "execution_count": 40,
   "metadata": {},
   "outputs": [
    {
     "name": "stdout",
     "output_type": "stream",
     "text": [
      "<class 'list'> 24\n",
      "<class 'tuple'> 720\n",
      "<class 'tuple'> 2520\n",
      "<class 'set'> 20700\n",
      "<class 'dict'> 1008\n",
      "<class 'list'> 1\n"
     ]
    }
   ],
   "source": [
    "# Q14 Try to find out multiplication of all numeric value in the individual collection inside dataset\n",
    "for i in l:\n",
    "    m = 1\n",
    "    if type(i) == list or type(i) == tuple or type(i) == set:\n",
    "        for j in i:\n",
    "            if type(j) == int:\n",
    "                m = m*j\n",
    "        print(type(i) ,m)\n",
    "    if type(i) == dict:\n",
    "        for k,v in i.items():\n",
    "            if type(k) == int and type(v) == int:\n",
    "                m *= k\n",
    "                m *= v\n",
    "        print(type(i) ,m)"
   ]
  },
  {
   "cell_type": "code",
   "execution_count": 38,
   "metadata": {},
   "outputs": [
    {
     "name": "stdout",
     "output_type": "stream",
     "text": [
      "Multipilcation of <class 'list'> is 24\n",
      "Multipilcation of <class 'tuple'> is 720\n",
      "Multipilcation of <class 'tuple'> is 2520\n",
      "Multipilcation of <class 'set'> is 20700\n",
      "Multipilcation of <class 'dict'> is 1008\n",
      "Multipilcation of <class 'list'> is 1\n"
     ]
    }
   ],
   "source": [
    "l = [[1,2,3,4],(2,3,4,5,6),(3,4,5,6,7),set([23,4,5,45,4,4,5,45,45,4,5]),{'k1':'sudh','k2':'ineuron','k3':'kumar',3:6,7:8},['ineuron','data science']]\n",
    "\n",
    "for i in l:\n",
    "    m = 1\n",
    "    if type(i) == tuple or type(i) == list or type(i) == set :\n",
    "        for j in i:\n",
    "            if type(j) == int:\n",
    "                m *= j\n",
    "        print('Multipilcation of',type(i),'is',m)\n",
    "    if type(i) == dict:\n",
    "        for k,v in i.items():\n",
    "            if type(k) == int and type(v) == int:\n",
    "                m = m * k\n",
    "                m = m * v\n",
    "        print('Multipilcation of',type(i),'is',m)           "
   ]
  },
  {
   "cell_type": "code",
   "execution_count": 29,
   "metadata": {},
   "outputs": [
    {
     "data": {
      "text/plain": [
       "[1,\n",
       " 2,\n",
       " 3,\n",
       " 4,\n",
       " 2,\n",
       " 3,\n",
       " 4,\n",
       " 5,\n",
       " 6,\n",
       " 3,\n",
       " 4,\n",
       " 5,\n",
       " 6,\n",
       " 7,\n",
       " 45,\n",
       " 4,\n",
       " 5,\n",
       " 23,\n",
       " 'k1',\n",
       " 'k2',\n",
       " 'k3',\n",
       " 3,\n",
       " 7,\n",
       " 'iNeuron',\n",
       " 'Data Science']"
      ]
     },
     "execution_count": 29,
     "metadata": {},
     "output_type": "execute_result"
    }
   ],
   "source": [
    "# Q15 Try to unwrap all the collection inside collection and create a flat list\n",
    "l6 = []\n",
    "for i in l:\n",
    "    for j in i:\n",
    "        l6.append(j)\n",
    "        \n",
    "l6 "
   ]
  },
  {
   "cell_type": "code",
   "execution_count": null,
   "metadata": {},
   "outputs": [],
   "source": []
  },
  {
   "cell_type": "code",
   "execution_count": null,
   "metadata": {},
   "outputs": [],
   "source": []
  }
 ],
 "metadata": {
  "interpreter": {
   "hash": "369f2c481f4da34e4445cda3fffd2e751bd1c4d706f27375911949ba6bb62e1c"
  },
  "kernelspec": {
   "display_name": "Python 3.10.0 64-bit",
   "language": "python",
   "name": "python3"
  },
  "language_info": {
   "codemirror_mode": {
    "name": "ipython",
    "version": 3
   },
   "file_extension": ".py",
   "mimetype": "text/x-python",
   "name": "python",
   "nbconvert_exporter": "python",
   "pygments_lexer": "ipython3",
   "version": "3.10.0"
  },
  "orig_nbformat": 4
 },
 "nbformat": 4,
 "nbformat_minor": 2
}
